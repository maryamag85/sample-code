{
 "cells": [
  {
   "cell_type": "code",
   "execution_count": 1,
   "metadata": {},
   "outputs": [],
   "source": [
    "#import libraries \n",
    "import pandas as pd\n",
    "import numpy as np\n",
    "\n",
    "def NMS(filename,Thre):\n",
    "    #check all the anchors are +\n",
    "    #check if the corner ofstart < corner end\n",
    "    #remove all the box with less than 50% chance\n",
    "    # have a processed list of index which shows which index has been processed-- check all first\n",
    "    #pick the box with highest score-- call it pilote --check if it is not in  {main_bx_idx or supp_inx} then add it to main_bx\n",
    "    #find the box with high overlap with the box and add their index to supress_box_idx \n",
    "    #continue until no_process is empty\n",
    "   \n",
    "    #reading the bounding box data into dataframe\n",
    "    df = pd.read_csv(filename ,header= None)\n",
    "\n",
    "    df = df[df.iloc[:,-1] > 0.5] # only consider boxes with higher than chance prob\n",
    "    df = df[df.iloc[:,2]>0]   # check if w is positive\n",
    "    df = df[df.iloc[:,3]>0]   #check all h are positive\n",
    "\n",
    "    df = np.asarray(df)\n",
    "\n",
    "    main_box_id =[]\n",
    "    m,n = df.shape\n",
    "\n",
    "    while m > 0 :  # as long as there are boxes that have not been detected as max or overlapped\n",
    "\n",
    "        overlap = []\n",
    "        bestbox = df[:,-1].argmax() #find the index of the box whit highest probability\n",
    "\n",
    "        overlap.append(bestbox)   # createa list of box which is processed as max box or overlapped\n",
    "        main_box_id.append(df[bestbox,:]) # create a list of max boxes as the final output\n",
    "\n",
    "        #get the values of starting and ending point of the max box and clac it's area\n",
    "        x1 = df[bestbox,0]        \n",
    "        y1 = df[bestbox,1]\n",
    "        x2 = x1 + df[bestbox,2]\n",
    "        y2 = y1 + df[bestbox,3]\n",
    "        area_main_box = (x2-x1)*(y2-y1)\n",
    "\n",
    "        # for all other boxes in the list , go through one by one and calc their IOU with the max box\n",
    "        for i in range(m):   \n",
    "            x3 = df[i,0]\n",
    "            y3 = df[i,1]\n",
    "            x4 = x3 + df[i,2]\n",
    "            y4 = y3 + df[i,3]\n",
    "\n",
    "            #get the cordinates of the intersectio box\n",
    "            Xs=max(x1,x3)\n",
    "            Ys=max(y1,y3)\n",
    "            Xe=min(x2,x4)\n",
    "            Ye=min(y2,y4)\n",
    "\n",
    "            #calc area of the box\n",
    "            area_i_box = (x4-x3)*(y4-y3)\n",
    "\n",
    "            #calc the intersection area\n",
    "            intersection = (Xe-Xs)*(Ye-Ys)\n",
    "            #calc IOU\n",
    "            IOU = intersection /(area_main_box + area_i_box - intersection)\n",
    "\n",
    "           #keep boxes which have higher than threshould IOU\n",
    "            if ((IOU)) > Thre : \n",
    "                overlap.append(i)\n",
    "        # after processing all the boxes and calc the IOU of them with the max box, suppress that group by removing from\n",
    "        # datafram \n",
    "        df = np.delete(df,overlap,axis=0)\n",
    "        #update size of the new dataframe for the while loop check\n",
    "        m,n=df.shape\n",
    "\n",
    "\n",
    "    print(main_box_id)\n",
    "    main_box_id = pd.DataFrame(main_box_id)\n",
    "    #output can be written in any format\n",
    "    main_box_id.to_csv('output_boxes_csv.txt')\n",
    "#     main_box_id.to_csv('output_boxes.txt', sep='\\t') \n",
    "    return "
   ]
  },
  {
   "cell_type": "code",
   "execution_count": 2,
   "metadata": {},
   "outputs": [
    {
     "name": "stdout",
     "output_type": "stream",
     "text": [
      "[array([10. , 11. , 20. , 20. ,  0.8]), array([42. , 40. , 12. , 20. ,  0.7])]\n"
     ]
    }
   ],
   "source": [
    "NMS('orbital',0.4)\n",
    "\n",
    "# this is the most straight forward implimentation though it could be better if we sort the boxes based on the threshold at \n",
    "#the beginning and doing some tricks to speed up the algorithms"
   ]
  },
  {
   "cell_type": "code",
   "execution_count": null,
   "metadata": {},
   "outputs": [],
   "source": []
  }
 ],
 "metadata": {
  "kernelspec": {
   "display_name": "Python 3",
   "language": "python",
   "name": "python3"
  },
  "language_info": {
   "codemirror_mode": {
    "name": "ipython",
    "version": 3
   },
   "file_extension": ".py",
   "mimetype": "text/x-python",
   "name": "python",
   "nbconvert_exporter": "python",
   "pygments_lexer": "ipython3",
   "version": "3.5.2"
  }
 },
 "nbformat": 4,
 "nbformat_minor": 2
}
