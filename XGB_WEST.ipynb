{
 "cells": [
  {
   "cell_type": "code",
   "execution_count": 1,
   "metadata": {},
   "outputs": [],
   "source": [
    "import numpy as np\n",
    "import pandas as pd\n",
    "from sklearn.preprocessing import OneHotEncoder\n",
    "from sklearn import preprocessing\n",
    "from sklearn.metrics import mean_squared_error\n",
    "from sklearn.model_selection import train_test_split\n",
    "import warnings\n",
    "warnings.filterwarnings('ignore')\n",
    "\n",
    "\n",
    "xy= pd.read_csv('ADNI_adnimerge_20170629_QT-freeze.csv',header=1)"
   ]
  },
  {
   "cell_type": "code",
   "execution_count": 2,
   "metadata": {},
   "outputs": [
    {
     "data": {
      "text/plain": [
       "Index(['RID', 'VISCODE', 'COLPROT', 'ORIGPROT', 'EXAMDATE', 'Dxbl', 'AGE',\n",
       "       'PTGENDER', 'PTEDUCAT', 'PTETHCAT', 'PTRACCAT', 'PTMARRY', 'PTID',\n",
       "       'SITE', 'APOE4', 'FDG', 'PIB', 'AV45', 'ABETA', 'PTAU', 'TAU', 'CDRSB',\n",
       "       'ADAS11', 'ADAS13', 'MMSE', 'RAVLTimmediate', 'RAVLTlearning',\n",
       "       'RAVLTforgetting', 'RAVLTpercforgetting', 'FAQ', 'MOCA', 'EcogPtMem',\n",
       "       'EcogPtLang', 'EcogPtVisspat', 'EcogPtPlan', 'EcogPtOrgan',\n",
       "       'EcogPtDivatt', 'EcogPtTotal', 'EcogSPMem', 'EcogSPLang',\n",
       "       'EcogSPVisspat', 'EcogSPPlan', 'EcogSPOrgan', 'EcogSPDivatt',\n",
       "       'EcogSPTotal', 'FLDSTRENG', 'FSVERSION', 'Ventricles', 'Hippocampus',\n",
       "       'WholeBrain', 'Entorhinal', 'Fusiform', 'MidTemp', 'ICV', 'DX',\n",
       "       'EXAMDATEbl', 'CDRSBbl', 'ADAS11bl', 'ADAS13bl', 'MMSEbl',\n",
       "       'RAVLTimmediatebl', 'RAVLTlearningbl', 'RAVLTforgettingbl',\n",
       "       'RAVLTpercforgettingbl', 'FAQbl', 'FLDSTRENGbl', 'FSVERSIONbl',\n",
       "       'Ventriclesbl', 'Hippocampusbl', 'WholeBrainbl', 'Entorhinalbl',\n",
       "       'Fusiformbl', 'MidTempbl', 'ICVbl', 'MOCAbl', 'EcogPtMembl',\n",
       "       'EcogPtLangbl', 'EcogPtVisspatbl', 'EcogPtPlanbl', 'EcogPtOrganbl',\n",
       "       'EcogPtDivattbl', 'EcogPtTotalbl', 'EcogSPMembl', 'EcogSPLangbl',\n",
       "       'EcogSPVisspatbl', 'EcogSPPlanbl', 'EcogSPOrganbl', 'EcogSPDivattbl',\n",
       "       'EcogSPTotalbl', 'ABETAbl', 'PTAUbl', 'TAUbl', 'FDGbl', 'PIBbl',\n",
       "       'AV45bl', 'Yearsbl', 'Monthbl', 'Month', 'M'],\n",
       "      dtype='object')"
      ]
     },
     "execution_count": 2,
     "metadata": {},
     "output_type": "execute_result"
    }
   ],
   "source": [
    "xy.columns"
   ]
  },
  {
   "cell_type": "code",
   "execution_count": 3,
   "metadata": {},
   "outputs": [],
   "source": [
    "XY=xy[['RID', 'VISCODE','AGE',       'PTGENDER', 'PTEDUCAT',         'APOE4'\n",
    "       , 'FDG', 'PIB', 'AV45', 'ABETA', 'PTAU', 'TAU', 'CDRSB',\n",
    "       'RAVLTimmediate', 'RAVLTlearning',\n",
    "       'RAVLTforgetting', 'RAVLTpercforgetting', 'FAQ', 'MOCA', 'EcogPtMem',\n",
    "       'EcogPtLang', 'EcogPtVisspat', 'EcogPtPlan', 'EcogPtOrgan',\n",
    "       'EcogPtDivatt', 'EcogPtTotal', 'EcogSPMem', 'EcogSPLang',\n",
    "       'EcogSPVisspat', 'EcogSPPlan', 'EcogSPOrgan', 'EcogSPDivatt',\n",
    "       'EcogSPTotal',  'Ventricles', 'Hippocampus',\n",
    "       'WholeBrain', 'Entorhinal', 'Fusiform', 'MidTemp', 'ICV','Dxbl']]#,'MMSE'"
   ]
  },
  {
   "cell_type": "code",
   "execution_count": 4,
   "metadata": {},
   "outputs": [],
   "source": [
    "xybl=XY[XY['VISCODE']=='bl']\n",
    "\n",
    "XY=xybl"
   ]
  },
  {
   "cell_type": "code",
   "execution_count": 5,
   "metadata": {},
   "outputs": [
    {
     "data": {
      "text/html": [
       "<div>\n",
       "<style scoped>\n",
       "    .dataframe tbody tr th:only-of-type {\n",
       "        vertical-align: middle;\n",
       "    }\n",
       "\n",
       "    .dataframe tbody tr th {\n",
       "        vertical-align: top;\n",
       "    }\n",
       "\n",
       "    .dataframe thead th {\n",
       "        text-align: right;\n",
       "    }\n",
       "</style>\n",
       "<table border=\"1\" class=\"dataframe\">\n",
       "  <thead>\n",
       "    <tr style=\"text-align: right;\">\n",
       "      <th></th>\n",
       "      <th>RID</th>\n",
       "      <th>AGE</th>\n",
       "      <th>PTEDUCAT</th>\n",
       "      <th>APOE4</th>\n",
       "      <th>FDG</th>\n",
       "      <th>PIB</th>\n",
       "      <th>AV45</th>\n",
       "      <th>CDRSB</th>\n",
       "      <th>RAVLTimmediate</th>\n",
       "      <th>RAVLTlearning</th>\n",
       "      <th>...</th>\n",
       "      <th>EcogSPOrgan</th>\n",
       "      <th>EcogSPDivatt</th>\n",
       "      <th>EcogSPTotal</th>\n",
       "      <th>Ventricles</th>\n",
       "      <th>Hippocampus</th>\n",
       "      <th>WholeBrain</th>\n",
       "      <th>Entorhinal</th>\n",
       "      <th>Fusiform</th>\n",
       "      <th>MidTemp</th>\n",
       "      <th>ICV</th>\n",
       "    </tr>\n",
       "    <tr>\n",
       "      <th>Dxbl</th>\n",
       "      <th></th>\n",
       "      <th></th>\n",
       "      <th></th>\n",
       "      <th></th>\n",
       "      <th></th>\n",
       "      <th></th>\n",
       "      <th></th>\n",
       "      <th></th>\n",
       "      <th></th>\n",
       "      <th></th>\n",
       "      <th></th>\n",
       "      <th></th>\n",
       "      <th></th>\n",
       "      <th></th>\n",
       "      <th></th>\n",
       "      <th></th>\n",
       "      <th></th>\n",
       "      <th></th>\n",
       "      <th></th>\n",
       "      <th></th>\n",
       "      <th></th>\n",
       "    </tr>\n",
       "  </thead>\n",
       "  <tbody>\n",
       "    <tr>\n",
       "      <th>AD</th>\n",
       "      <td>2032.024806</td>\n",
       "      <td>7.791297</td>\n",
       "      <td>2.990758</td>\n",
       "      <td>0.712715</td>\n",
       "      <td>0.143973</td>\n",
       "      <td>0.402087</td>\n",
       "      <td>0.214909</td>\n",
       "      <td>1.666593</td>\n",
       "      <td>7.554414</td>\n",
       "      <td>1.774835</td>\n",
       "      <td>...</td>\n",
       "      <td>0.866721</td>\n",
       "      <td>0.935966</td>\n",
       "      <td>0.670612</td>\n",
       "      <td>24683.493006</td>\n",
       "      <td>1021.293083</td>\n",
       "      <td>113689.244053</td>\n",
       "      <td>675.599453</td>\n",
       "      <td>2618.813985</td>\n",
       "      <td>3103.477675</td>\n",
       "      <td>181386.893826</td>\n",
       "    </tr>\n",
       "    <tr>\n",
       "      <th>CN</th>\n",
       "      <td>1923.081632</td>\n",
       "      <td>5.733217</td>\n",
       "      <td>2.733417</td>\n",
       "      <td>0.513935</td>\n",
       "      <td>0.114517</td>\n",
       "      <td>NaN</td>\n",
       "      <td>0.176631</td>\n",
       "      <td>0.127974</td>\n",
       "      <td>9.840803</td>\n",
       "      <td>2.330743</td>\n",
       "      <td>...</td>\n",
       "      <td>0.416546</td>\n",
       "      <td>0.484433</td>\n",
       "      <td>0.249346</td>\n",
       "      <td>18831.660324</td>\n",
       "      <td>904.313810</td>\n",
       "      <td>103318.806311</td>\n",
       "      <td>643.577001</td>\n",
       "      <td>2436.000678</td>\n",
       "      <td>2674.151032</td>\n",
       "      <td>158989.324792</td>\n",
       "    </tr>\n",
       "    <tr>\n",
       "      <th>EMCI</th>\n",
       "      <td>1168.111385</td>\n",
       "      <td>7.500441</td>\n",
       "      <td>2.658281</td>\n",
       "      <td>0.623309</td>\n",
       "      <td>0.118674</td>\n",
       "      <td>NaN</td>\n",
       "      <td>0.204626</td>\n",
       "      <td>0.756735</td>\n",
       "      <td>10.713808</td>\n",
       "      <td>2.462465</td>\n",
       "      <td>...</td>\n",
       "      <td>0.677580</td>\n",
       "      <td>0.776893</td>\n",
       "      <td>0.541186</td>\n",
       "      <td>20391.030714</td>\n",
       "      <td>1003.247777</td>\n",
       "      <td>104325.902715</td>\n",
       "      <td>669.040158</td>\n",
       "      <td>2596.835301</td>\n",
       "      <td>2650.880586</td>\n",
       "      <td>152490.875061</td>\n",
       "    </tr>\n",
       "    <tr>\n",
       "      <th>LMCI</th>\n",
       "      <td>1759.058482</td>\n",
       "      <td>7.504839</td>\n",
       "      <td>2.938854</td>\n",
       "      <td>0.693953</td>\n",
       "      <td>0.136413</td>\n",
       "      <td>0.364101</td>\n",
       "      <td>0.238378</td>\n",
       "      <td>0.921366</td>\n",
       "      <td>9.513172</td>\n",
       "      <td>2.382997</td>\n",
       "      <td>...</td>\n",
       "      <td>0.840263</td>\n",
       "      <td>0.859292</td>\n",
       "      <td>0.659385</td>\n",
       "      <td>23531.048629</td>\n",
       "      <td>1107.027880</td>\n",
       "      <td>109830.267989</td>\n",
       "      <td>747.441939</td>\n",
       "      <td>2579.190696</td>\n",
       "      <td>2947.686096</td>\n",
       "      <td>168421.482732</td>\n",
       "    </tr>\n",
       "    <tr>\n",
       "      <th>SMC</th>\n",
       "      <td>76.302696</td>\n",
       "      <td>5.563880</td>\n",
       "      <td>2.520589</td>\n",
       "      <td>0.495442</td>\n",
       "      <td>0.117410</td>\n",
       "      <td>NaN</td>\n",
       "      <td>0.182472</td>\n",
       "      <td>0.175101</td>\n",
       "      <td>9.705664</td>\n",
       "      <td>2.234259</td>\n",
       "      <td>...</td>\n",
       "      <td>0.465207</td>\n",
       "      <td>0.572051</td>\n",
       "      <td>0.340600</td>\n",
       "      <td>17209.404356</td>\n",
       "      <td>927.533596</td>\n",
       "      <td>99722.605866</td>\n",
       "      <td>583.229350</td>\n",
       "      <td>2168.570606</td>\n",
       "      <td>2636.042515</td>\n",
       "      <td>153592.561113</td>\n",
       "    </tr>\n",
       "  </tbody>\n",
       "</table>\n",
       "<p>5 rows × 35 columns</p>\n",
       "</div>"
      ],
      "text/plain": [
       "              RID       AGE  PTEDUCAT     APOE4       FDG       PIB      AV45  \\\n",
       "Dxbl                                                                            \n",
       "AD    2032.024806  7.791297  2.990758  0.712715  0.143973  0.402087  0.214909   \n",
       "CN    1923.081632  5.733217  2.733417  0.513935  0.114517       NaN  0.176631   \n",
       "EMCI  1168.111385  7.500441  2.658281  0.623309  0.118674       NaN  0.204626   \n",
       "LMCI  1759.058482  7.504839  2.938854  0.693953  0.136413  0.364101  0.238378   \n",
       "SMC     76.302696  5.563880  2.520589  0.495442  0.117410       NaN  0.182472   \n",
       "\n",
       "         CDRSB  RAVLTimmediate  RAVLTlearning      ...        EcogSPOrgan  \\\n",
       "Dxbl                                               ...                      \n",
       "AD    1.666593        7.554414       1.774835      ...           0.866721   \n",
       "CN    0.127974        9.840803       2.330743      ...           0.416546   \n",
       "EMCI  0.756735       10.713808       2.462465      ...           0.677580   \n",
       "LMCI  0.921366        9.513172       2.382997      ...           0.840263   \n",
       "SMC   0.175101        9.705664       2.234259      ...           0.465207   \n",
       "\n",
       "      EcogSPDivatt  EcogSPTotal    Ventricles  Hippocampus     WholeBrain  \\\n",
       "Dxbl                                                                        \n",
       "AD        0.935966     0.670612  24683.493006  1021.293083  113689.244053   \n",
       "CN        0.484433     0.249346  18831.660324   904.313810  103318.806311   \n",
       "EMCI      0.776893     0.541186  20391.030714  1003.247777  104325.902715   \n",
       "LMCI      0.859292     0.659385  23531.048629  1107.027880  109830.267989   \n",
       "SMC       0.572051     0.340600  17209.404356   927.533596   99722.605866   \n",
       "\n",
       "      Entorhinal     Fusiform      MidTemp            ICV  \n",
       "Dxbl                                                       \n",
       "AD    675.599453  2618.813985  3103.477675  181386.893826  \n",
       "CN    643.577001  2436.000678  2674.151032  158989.324792  \n",
       "EMCI  669.040158  2596.835301  2650.880586  152490.875061  \n",
       "LMCI  747.441939  2579.190696  2947.686096  168421.482732  \n",
       "SMC   583.229350  2168.570606  2636.042515  153592.561113  \n",
       "\n",
       "[5 rows x 35 columns]"
      ]
     },
     "execution_count": 5,
     "metadata": {},
     "output_type": "execute_result"
    }
   ],
   "source": [
    "XY.groupby('Dxbl').std()"
   ]
  },
  {
   "cell_type": "code",
   "execution_count": 6,
   "metadata": {},
   "outputs": [
    {
     "data": {
      "text/plain": [
       "VISCODE          bl\n",
       "AGE            74.3\n",
       "PTGENDER       Male\n",
       "PTEDUCAT         16\n",
       "APOE4             0\n",
       "FDG         1.36926\n",
       "PIB             NaN\n",
       "AV45            NaN\n",
       "ABETA           NaN\n",
       "Name: 0, dtype: object"
      ]
     },
     "execution_count": 6,
     "metadata": {},
     "output_type": "execute_result"
    }
   ],
   "source": [
    "XY.iloc[0,1:10]"
   ]
  },
  {
   "cell_type": "code",
   "execution_count": 7,
   "metadata": {},
   "outputs": [
    {
     "data": {
      "text/plain": [
       "0.2809166155732679"
      ]
     },
     "execution_count": 7,
     "metadata": {},
     "output_type": "execute_result"
    }
   ],
   "source": [
    "XY.isnull().sum().sum()/(1631*40)"
   ]
  },
  {
   "cell_type": "code",
   "execution_count": 8,
   "metadata": {},
   "outputs": [
    {
     "data": {
      "text/plain": [
       "RID                       0\n",
       "VISCODE                   0\n",
       "AGE                       0\n",
       "PTGENDER                  0\n",
       "PTEDUCAT                  0\n",
       "APOE4                    12\n",
       "FDG                     434\n",
       "PIB                    1717\n",
       "AV45                    843\n",
       "ABETA                   522\n",
       "PTAU                    522\n",
       "TAU                     522\n",
       "CDRSB                     0\n",
       "RAVLTimmediate            6\n",
       "RAVLTlearning             6\n",
       "RAVLTforgetting           6\n",
       "RAVLTpercforgetting      11\n",
       "FAQ                       9\n",
       "MOCA                    832\n",
       "EcogPtMem               823\n",
       "EcogPtLang              823\n",
       "EcogPtVisspat           827\n",
       "EcogPtPlan              824\n",
       "EcogPtOrgan             845\n",
       "EcogPtDivatt            830\n",
       "EcogPtTotal             823\n",
       "EcogSPMem               829\n",
       "EcogSPLang              828\n",
       "EcogSPVisspat           842\n",
       "EcogSPPlan              838\n",
       "EcogSPOrgan             868\n",
       "EcogSPDivatt            849\n",
       "EcogSPTotal             830\n",
       "Ventricles               82\n",
       "Hippocampus             248\n",
       "WholeBrain               48\n",
       "Entorhinal              271\n",
       "Fusiform                271\n",
       "MidTemp                 271\n",
       "ICV                      15\n",
       "Dxbl                      0\n",
       "dtype: int64"
      ]
     },
     "execution_count": 8,
     "metadata": {},
     "output_type": "execute_result"
    }
   ],
   "source": [
    "XY.isnull().sum()"
   ]
  },
  {
   "cell_type": "code",
   "execution_count": 9,
   "metadata": {},
   "outputs": [
    {
     "name": "stdout",
     "output_type": "stream",
     "text": [
      "<class 'pandas.core.frame.DataFrame'>\n",
      "Int64Index: 1737 entries, 0 to 12747\n",
      "Data columns (total 41 columns):\n",
      "RID                    1737 non-null int64\n",
      "VISCODE                1737 non-null object\n",
      "AGE                    1737 non-null float64\n",
      "PTGENDER               1737 non-null object\n",
      "PTEDUCAT               1737 non-null int64\n",
      "APOE4                  1725 non-null float64\n",
      "FDG                    1303 non-null float64\n",
      "PIB                    20 non-null float64\n",
      "AV45                   894 non-null float64\n",
      "ABETA                  1215 non-null object\n",
      "PTAU                   1215 non-null object\n",
      "TAU                    1215 non-null object\n",
      "CDRSB                  1737 non-null float64\n",
      "RAVLTimmediate         1731 non-null float64\n",
      "RAVLTlearning          1731 non-null float64\n",
      "RAVLTforgetting        1731 non-null float64\n",
      "RAVLTpercforgetting    1726 non-null float64\n",
      "FAQ                    1728 non-null float64\n",
      "MOCA                   905 non-null float64\n",
      "EcogPtMem              914 non-null float64\n",
      "EcogPtLang             914 non-null float64\n",
      "EcogPtVisspat          910 non-null float64\n",
      "EcogPtPlan             913 non-null float64\n",
      "EcogPtOrgan            892 non-null float64\n",
      "EcogPtDivatt           907 non-null float64\n",
      "EcogPtTotal            914 non-null float64\n",
      "EcogSPMem              908 non-null float64\n",
      "EcogSPLang             909 non-null float64\n",
      "EcogSPVisspat          895 non-null float64\n",
      "EcogSPPlan             899 non-null float64\n",
      "EcogSPOrgan            869 non-null float64\n",
      "EcogSPDivatt           888 non-null float64\n",
      "EcogSPTotal            907 non-null float64\n",
      "Ventricles             1655 non-null float64\n",
      "Hippocampus            1489 non-null float64\n",
      "WholeBrain             1689 non-null float64\n",
      "Entorhinal             1466 non-null float64\n",
      "Fusiform               1466 non-null float64\n",
      "MidTemp                1466 non-null float64\n",
      "ICV                    1722 non-null float64\n",
      "Dxbl                   1737 non-null object\n",
      "dtypes: float64(33), int64(2), object(6)\n",
      "memory usage: 650.0+ KB\n"
     ]
    }
   ],
   "source": [
    "XY.info()"
   ]
  },
  {
   "cell_type": "code",
   "execution_count": 42,
   "metadata": {},
   "outputs": [
    {
     "data": {
      "text/plain": [
       "array([[<matplotlib.axes._subplots.AxesSubplot object at 0x7f132176ec18>]],\n",
       "      dtype=object)"
      ]
     },
     "execution_count": 42,
     "metadata": {},
     "output_type": "execute_result"
    },
    {
     "data": {
      "image/png": "[encoded data removed]",
      "text/plain": [
       "<matplotlib.figure.Figure at 0x7f1322c4ab00>"
      ]
     },
     "metadata": {},
     "output_type": "display_data"
    }
   ],
   "source": [
    "import matplotlib.pyplot as plt\n",
    "\n",
    "%matplotlib inline\n",
    "XY.hist('PIB')\n"
   ]
  },
  {
   "cell_type": "code",
   "execution_count": 11,
   "metadata": {},
   "outputs": [
    {
     "data": {
      "text/plain": [
       "RID                       0\n",
       "VISCODE                   0\n",
       "AGE                       0\n",
       "PTGENDER                  0\n",
       "PTEDUCAT                  0\n",
       "APOE4                    12\n",
       "FDG                     434\n",
       "PIB                    1717\n",
       "AV45                    843\n",
       "ABETA                   522\n",
       "PTAU                    522\n",
       "TAU                     522\n",
       "CDRSB                     0\n",
       "RAVLTimmediate            6\n",
       "RAVLTlearning             6\n",
       "RAVLTforgetting           6\n",
       "RAVLTpercforgetting      11\n",
       "FAQ                       9\n",
       "MOCA                    832\n",
       "EcogPtMem               823\n",
       "EcogPtLang              823\n",
       "EcogPtVisspat           827\n",
       "EcogPtPlan              824\n",
       "EcogPtOrgan             845\n",
       "EcogPtDivatt            830\n",
       "EcogPtTotal             823\n",
       "EcogSPMem               829\n",
       "EcogSPLang              828\n",
       "EcogSPVisspat           842\n",
       "EcogSPPlan              838\n",
       "EcogSPOrgan             868\n",
       "EcogSPDivatt            849\n",
       "EcogSPTotal             830\n",
       "Ventricles               82\n",
       "Hippocampus             248\n",
       "WholeBrain               48\n",
       "Entorhinal              271\n",
       "Fusiform                271\n",
       "MidTemp                 271\n",
       "ICV                      15\n",
       "Dxbl                      0\n",
       "dtype: int64"
      ]
     },
     "execution_count": 11,
     "metadata": {},
     "output_type": "execute_result"
    }
   ],
   "source": [
    "XY.isnull().sum(axis=0)"
   ]
  },
  {
   "cell_type": "code",
   "execution_count": 12,
   "metadata": {},
   "outputs": [
    {
     "data": {
      "text/plain": [
       "1737"
      ]
     },
     "execution_count": 12,
     "metadata": {},
     "output_type": "execute_result"
    }
   ],
   "source": [
    "sum(XY.apply(lambda x: sum(x.isnull().values), axis = 1)>0)"
   ]
  },
  {
   "cell_type": "code",
   "execution_count": 13,
   "metadata": {},
   "outputs": [
    {
     "data": {
      "text/plain": [
       "(1737, 41)"
      ]
     },
     "execution_count": 13,
     "metadata": {},
     "output_type": "execute_result"
    }
   ],
   "source": [
    "# Dropping values which are not meaningful\n",
    "# ABETHA\n",
    "XY['ABETA']=XY['ABETA'].replace('>1700',None)\n",
    "XY['ABETA']=XY['ABETA'].replace('<200',None)\n",
    "\n",
    "# PTAU\n",
    "XY['PTAU']=XY['PTAU'].replace('>120',None)\n",
    "XY['PTAU']=XY['PTAU'].replace('<8',None)\n",
    "# TAU\n",
    "\n",
    "XY['TAU']=XY['TAU'].replace('>1300',None)\n",
    "XY['TAU']=XY['TAU'].replace('<80',None)\n",
    "\n",
    "XY.shape\n"
   ]
  },
  {
   "cell_type": "code",
   "execution_count": 14,
   "metadata": {},
   "outputs": [],
   "source": [
    "XY = XY.drop(XY[XY['Ventricles']==0].index)\n",
    "XY = XY.dropna(subset=['Dxbl'])"
   ]
  },
  {
   "cell_type": "code",
   "execution_count": 15,
   "metadata": {},
   "outputs": [],
   "source": [
    "XY = XY.drop(XY[XY['Dxbl']=='MCI to Dementia'].index)\n",
    "XY = XY.drop(XY[XY['Dxbl']=='NL to MCI'].index)\n",
    "XY = XY.drop(XY[XY['Dxbl']=='MCI to NL'].index)\n",
    "XY = XY.drop(XY[XY['Dxbl']=='Dementia to MCI'].index)\n",
    "XY = XY.drop(XY[XY['Dxbl']=='NL to Dementia'].index)\n",
    "XY = XY.drop(XY[XY['Dxbl']=='SMC'].index)\n",
    "# XY = XY.drop(XY[XY['MMSE'].isnull()].index)"
   ]
  },
  {
   "cell_type": "code",
   "execution_count": 16,
   "metadata": {},
   "outputs": [
    {
     "data": {
      "text/plain": [
       "LMCI    562\n",
       "CN      417\n",
       "AD      342\n",
       "EMCI    310\n",
       "Name: Dxbl, dtype: int64"
      ]
     },
     "execution_count": 16,
     "metadata": {},
     "output_type": "execute_result"
    }
   ],
   "source": [
    "XY['Dxbl'].value_counts()"
   ]
  },
  {
   "cell_type": "code",
   "execution_count": 17,
   "metadata": {},
   "outputs": [],
   "source": [
    "le = preprocessing.LabelEncoder()\n",
    "XY['Dxbl']=le.fit_transform(XY['Dxbl'])"
   ]
  },
  {
   "cell_type": "code",
   "execution_count": 18,
   "metadata": {},
   "outputs": [],
   "source": [
    "# redefining value types which we deal with them in the above section\n",
    "# ABETA\n",
    "XY['ABETA']=(XY['ABETA'].astype(float))\n",
    "XY = XY.infer_objects()\n",
    "# PTAU\n",
    "XY['PTAU']=(XY['PTAU'].astype(float))\n",
    "# TAU\n",
    "XY['TAU']=(XY['TAU'].astype(float))"
   ]
  },
  {
   "cell_type": "code",
   "execution_count": 19,
   "metadata": {},
   "outputs": [],
   "source": [
    "XY=XY.set_index('RID',drop=False)"
   ]
  },
  {
   "cell_type": "code",
   "execution_count": 20,
   "metadata": {},
   "outputs": [
    {
     "data": {
      "text/plain": [
       "Index(['RID', 'VISCODE', 'AGE', 'PTGENDER', 'PTEDUCAT', 'APOE4', 'FDG', 'PIB',\n",
       "       'AV45', 'ABETA', 'PTAU', 'TAU', 'CDRSB', 'RAVLTimmediate',\n",
       "       'RAVLTlearning', 'RAVLTforgetting', 'RAVLTpercforgetting', 'FAQ',\n",
       "       'MOCA', 'EcogPtMem', 'EcogPtLang', 'EcogPtVisspat', 'EcogPtPlan',\n",
       "       'EcogPtOrgan', 'EcogPtDivatt', 'EcogPtTotal', 'EcogSPMem', 'EcogSPLang',\n",
       "       'EcogSPVisspat', 'EcogSPPlan', 'EcogSPOrgan', 'EcogSPDivatt',\n",
       "       'EcogSPTotal', 'Ventricles', 'Hippocampus', 'WholeBrain', 'Entorhinal',\n",
       "       'Fusiform', 'MidTemp', 'ICV', 'Dxbl'],\n",
       "      dtype='object')"
      ]
     },
     "execution_count": 20,
     "metadata": {},
     "output_type": "execute_result"
    }
   ],
   "source": [
    "XY.columns"
   ]
  },
  {
   "cell_type": "code",
   "execution_count": 21,
   "metadata": {},
   "outputs": [],
   "source": [
    "XY.columns\n",
    "\n",
    "df_xy_X=XY.iloc[:,1:-1]\n",
    "df_xy_y=XY.iloc[:,-1]"
   ]
  },
  {
   "cell_type": "code",
   "execution_count": 22,
   "metadata": {},
   "outputs": [],
   "source": [
    "df_xy_X=df_xy_X.drop(['VISCODE'],axis=1)\n",
    "from sklearn import preprocessing\n",
    "le = preprocessing.LabelEncoder()\n",
    "df_xy_X['PTGENDER']=le.fit_transform(df_xy_X['PTGENDER'])"
   ]
  },
  {
   "cell_type": "code",
   "execution_count": 23,
   "metadata": {},
   "outputs": [
    {
     "data": {
      "text/plain": [
       "3    562\n",
       "1    417\n",
       "0    342\n",
       "2    310\n",
       "Name: Dxbl, dtype: int64"
      ]
     },
     "execution_count": 23,
     "metadata": {},
     "output_type": "execute_result"
    }
   ],
   "source": [
    "df_xy_y.value_counts()"
   ]
  },
  {
   "cell_type": "code",
   "execution_count": 24,
   "metadata": {},
   "outputs": [],
   "source": [
    "Y= df_xy_y\n"
   ]
  },
  {
   "cell_type": "code",
   "execution_count": 25,
   "metadata": {},
   "outputs": [],
   "source": [
    "#split to train and test \n",
    "from sklearn.model_selection import train_test_split\n",
    "X_train, X_test, y_train, y_test = train_test_split(df_xy_X, Y, test_size=0.33, random_state=42)"
   ]
  },
  {
   "cell_type": "code",
   "execution_count": 26,
   "metadata": {},
   "outputs": [
    {
     "name": "stdout",
     "output_type": "stream",
     "text": [
      "Accuracy: 80.52%\n",
      "0.8062431204022966\n",
      "0.8051948051948052\n",
      "0.8031452270318622\n"
     ]
    }
   ],
   "source": [
    "\n",
    "from xgboost import XGBClassifier\n",
    "from sklearn.metrics import accuracy_score,precision_score,f1_score,recall_score\n",
    "model = XGBClassifier()\n",
    "\n",
    "\n",
    "\n",
    "y_score_auc = model.fit(X_train,y_train).predict_proba(X_test)\n",
    "y_score = np.argmax(y_score_auc, axis=1)\n",
    "predictions = [round(value) for value in y_score]\n",
    "\n",
    "# evaluate predictions\n",
    "accuracy = accuracy_score(y_test, predictions)\n",
    "print(\"Accuracy: %.2f%%\" % (accuracy * 100.0))\n",
    "print(precision_score(y_score,y_test, average='weighted'))\n",
    "print(recall_score(y_score,y_test, average='weighted'))\n",
    "print(f1_score(y_score,y_test, average='weighted'))\n"
   ]
  },
  {
   "cell_type": "code",
   "execution_count": 27,
   "metadata": {},
   "outputs": [
    {
     "data": {
      "image/png": "[encoded data removed]",
      "text/plain": [
       "<matplotlib.figure.Figure at 0x7f132982ac88>"
      ]
     },
     "metadata": {},
     "output_type": "display_data"
    },
    {
     "data": {
      "image/png": "[encoded data removed]",
      "text/plain": [
       "<matplotlib.figure.Figure at 0x7f1322c42e48>"
      ]
     },
     "metadata": {},
     "output_type": "display_data"
    }
   ],
   "source": [
    "import numpy as np\n",
    "import matplotlib.pyplot as plt\n",
    "from itertools import cycle\n",
    "\n",
    "from sklearn import svm, datasets\n",
    "from sklearn.metrics import roc_curve, auc\n",
    "from sklearn.model_selection import train_test_split\n",
    "from sklearn.preprocessing import label_binarize\n",
    "from sklearn.multiclass import OneVsRestClassifier\n",
    "from scipy import interp\n",
    "\n",
    "lw=2\n",
    "# Binarize the output\n",
    "y_test1 = label_binarize(y_test, classes=[0, 1, 2,3 ])\n",
    "y_score =y_score_auc# label_binarize(y_score_auc, classes=[0, 1, 2,3 ])\n",
    "n_classes = y_test1.shape[1]\n",
    "# Compute macro-average ROC curve and ROC area\n",
    "# Compute ROC curve and ROC area for each class\n",
    "fpr = dict()\n",
    "tpr = dict()\n",
    "roc_auc = dict()\n",
    "for i in range(n_classes):\n",
    "    fpr[i], tpr[i], _ = roc_curve(y_test1[:, i], y_score[:, i])\n",
    "    roc_auc[i] = auc(fpr[i], tpr[i])\n",
    "\n",
    "# Compute micro-average ROC curve and ROC area\n",
    "fpr[\"micro\"], tpr[\"micro\"], _ = roc_curve(y_test1.ravel(), y_score.ravel())\n",
    "roc_auc[\"micro\"] = auc(fpr[\"micro\"], tpr[\"micro\"])\n",
    "# First aggregate all false positive rates\n",
    "all_fpr = np.unique(np.concatenate([fpr[i] for i in range(n_classes)]))\n",
    "\n",
    "# Then interpolate all ROC curves at this points\n",
    "mean_tpr = np.zeros_like(all_fpr)\n",
    "for i in range(n_classes):\n",
    "    mean_tpr += interp(all_fpr, fpr[i], tpr[i])\n",
    "\n",
    "# Finally average it and compute AUC\n",
    "mean_tpr /= n_classes\n",
    "\n",
    "fpr[\"macro\"] = all_fpr\n",
    "tpr[\"macro\"] = mean_tpr\n",
    "roc_auc[\"macro\"] = auc(fpr[\"macro\"], tpr[\"macro\"])\n",
    "\n",
    "# Plot all ROC curves\n",
    "plt.figure()\n",
    "plt.plot(fpr[\"micro\"], tpr[\"micro\"],\n",
    "         label='micro-average ROC curve (area = {0:0.2f})'\n",
    "               ''.format(roc_auc[\"micro\"]),\n",
    "         color='deeppink', linestyle=':', linewidth=4)\n",
    "\n",
    "plt.plot(fpr[\"macro\"], tpr[\"macro\"],\n",
    "         label='macro-average ROC curve (area = {0:0.2f})'\n",
    "               ''.format(roc_auc[\"macro\"]),\n",
    "         color='navy', linestyle=':', linewidth=4)\n",
    "name= {0:'AD',1:'CN',2:'EMCI',3:'LMCI'}\n",
    "colors = cycle(['aqua', 'darkorange', 'cornflowerblue','red'])\n",
    "for i, color in zip(range(n_classes), colors):\n",
    "    plt.plot(fpr[i], tpr[i], color=color, lw=lw,\n",
    "             label='ROC curve of class {0} (area = {1:0.2f})'\n",
    "             ''.format(name[i], roc_auc[i]))\n",
    "\n",
    "plt.plot([0, 1], [0, 1], 'k--', lw=lw)\n",
    "plt.xlim([0.0, 1.0])\n",
    "plt.ylim([0.0, 1.05])\n",
    "plt.xlabel('False Positive Rate')\n",
    "plt.ylabel('True Positive Rate')\n",
    "plt.title('Receiver Operating Characteristic of XGB for ADNI dataset')\n",
    "plt.legend(loc=\"lower right\")\n",
    "plt.show()\n"
   ]
  },
  {
   "cell_type": "code",
   "execution_count": 28,
   "metadata": {},
   "outputs": [
    {
     "name": "stdout",
     "output_type": "stream",
     "text": [
      "0.7421150278293135\n",
      "0.7555224176258266\n",
      "0.7421150278293135\n",
      "0.7399661700840013\n"
     ]
    }
   ],
   "source": [
    "from sklearn.neural_network import MLPClassifier\n",
    "from sklearn.metrics import accuracy_score\n",
    "from sklearn import svm\n",
    "\n",
    "X_test = X_test.fillna(0)\n",
    "X_train = X_train.fillna(0)\n",
    "\n",
    "\n",
    "from sklearn.preprocessing import MinMaxScaler\n",
    "scaler = MinMaxScaler()\n",
    "X_train = (scaler.fit_transform(X_train))\n",
    "X_test = (scaler.fit_transform(X_test))\n",
    "\n",
    "\n",
    "classifier = svm.SVC(gamma=0.01, C=10, kernel='rbf')\n",
    "\n",
    "# y_score=clf.fit(X_train,y_train).decision_function(X_test) \n",
    "# # y_predict=clf.predict(X_test)\n",
    "\n",
    "\n",
    "# classifier = OneVsRestClassifier(svm.SVC(gamma= 0.0001, C= 100, kernel= 'rbf'))\n",
    "y_score_auc = classifier.fit(X_train, y_train).decision_function(X_test)\n",
    "y_score=np.argmax(y_score_auc, axis=1)\n",
    "y_pred=classifier.predict(X_test)\n",
    "\n",
    "\n",
    "print(accuracy_score(y_test, y_score))\n",
    "print(precision_score(y_score,y_test, average='weighted'))\n",
    "print(recall_score(y_score,y_test, average='weighted'))\n",
    "print(f1_score(y_score,y_test, average='weighted'))"
   ]
  },
  {
   "cell_type": "code",
   "execution_count": 29,
   "metadata": {},
   "outputs": [
    {
     "data": {
      "text/plain": [
       "array([2, 2, 2, 3, 2, 3, 1, 0, 3, 3, 3, 0, 1, 0, 0, 2, 1, 2, 3, 0, 1, 3,\n",
       "       2, 0, 3, 2, 2, 3, 3, 1, 0, 0, 2, 2, 3, 1, 3, 2, 0, 2, 3, 2, 2, 3,\n",
       "       2, 1, 1, 3, 2, 3, 3, 3, 3, 3, 3, 3, 3, 3, 3, 1, 0, 1, 3, 3, 1, 3,\n",
       "       3, 1, 2, 1, 3, 0, 2, 3, 1, 3, 2, 0, 3, 0, 1, 2, 2, 1, 2, 3, 1, 2,\n",
       "       1, 0, 2, 3, 3, 0, 3, 3, 2, 3, 2, 0, 0, 0, 2, 2, 1, 3, 3, 1, 0, 3,\n",
       "       3, 3, 1, 2, 0, 3, 2, 2, 3, 1, 0, 0, 1, 3, 2, 1, 3, 0, 0, 1, 0, 2,\n",
       "       3, 2, 2, 0, 2, 3, 1, 0, 3, 3, 1, 2, 3, 2, 1, 3, 1, 1, 1, 2, 0, 1,\n",
       "       2, 2, 0, 1, 3, 0, 3, 3, 2, 3, 2, 0, 1, 3, 3, 3, 0, 2, 1, 0, 2, 2,\n",
       "       3, 1, 3, 0, 3, 1, 1, 0, 2, 0, 0, 1, 2, 1, 3, 3, 2, 1, 2, 3, 1, 2,\n",
       "       3, 1, 3, 0, 0, 1, 3, 1, 2, 3, 1, 0, 3, 1, 2, 1, 3, 1, 1, 1, 2, 3,\n",
       "       2, 1, 3, 0, 2, 3, 1, 2, 2, 2, 1, 3, 3, 1, 0, 3, 0, 1, 2, 3, 1, 1,\n",
       "       0, 2, 0, 0, 3, 3, 2, 1, 2, 0, 3, 3, 3, 0, 0, 2, 0, 3, 3, 2, 2, 0,\n",
       "       3, 1, 3, 1, 3, 0, 1, 3, 0, 2, 1, 3, 0, 3, 3, 2, 1, 1, 3, 2, 1, 2,\n",
       "       1, 1, 2, 3, 0, 2, 2, 3, 1, 2, 3, 1, 3, 1, 2, 0, 0, 1, 0, 0, 2, 2,\n",
       "       0, 0, 3, 2, 3, 3, 2, 3, 3, 1, 2, 3, 2, 2, 3, 3, 0, 1, 1, 3, 1, 1,\n",
       "       2, 2, 2, 2, 1, 2, 1, 0, 0, 0, 2, 1, 0, 0, 2, 3, 2, 2, 3, 3, 3, 1,\n",
       "       3, 1, 0, 0, 3, 1, 2, 0, 2, 3, 1, 1, 0, 3, 2, 0, 0, 2, 3, 2, 0, 2,\n",
       "       2, 3, 0, 0, 2, 1, 1, 0, 0, 1, 2, 1, 3, 3, 1, 2, 1, 1, 1, 0, 2, 3,\n",
       "       3, 2, 3, 3, 2, 1, 0, 2, 1, 1, 2, 0, 1, 2, 3, 3, 2, 0, 2, 0, 3, 0,\n",
       "       2, 1, 2, 2, 3, 3, 2, 2, 2, 3, 0, 0, 2, 0, 3, 0, 0, 2, 2, 1, 0, 2,\n",
       "       1, 2, 3, 0, 3, 0, 1, 3, 2, 1, 2, 0, 2, 1, 3, 3, 3, 2, 1, 2, 3, 1,\n",
       "       3, 0, 1, 2, 1, 2, 1, 0, 3, 2, 3, 3, 2, 2, 3, 2, 3, 0, 2, 3, 3, 0,\n",
       "       1, 3, 3, 2, 1, 2, 0, 2, 0, 3, 0, 1, 0, 3, 2, 2, 0, 1, 3, 1, 3, 1,\n",
       "       3, 3, 3, 3, 3, 0, 1, 3, 3, 1, 2, 2, 0, 1, 0, 3, 0, 2, 2, 0, 1, 0,\n",
       "       2, 0, 1, 1, 2, 0, 0, 3, 2, 1, 1])"
      ]
     },
     "execution_count": 29,
     "metadata": {},
     "output_type": "execute_result"
    }
   ],
   "source": [
    "y_score"
   ]
  },
  {
   "cell_type": "code",
   "execution_count": 30,
   "metadata": {},
   "outputs": [
    {
     "data": {
      "image/png": "[encoded data removed]",
      "text/plain": [
       "<matplotlib.figure.Figure at 0x7f13229190f0>"
      ]
     },
     "metadata": {},
     "output_type": "display_data"
    }
   ],
   "source": [
    "import numpy as np\n",
    "import matplotlib.pyplot as plt\n",
    "from itertools import cycle\n",
    "\n",
    "from sklearn import svm, datasets\n",
    "from sklearn.metrics import roc_curve, auc\n",
    "from sklearn.model_selection import train_test_split\n",
    "from sklearn.preprocessing import label_binarize\n",
    "from sklearn.multiclass import OneVsRestClassifier\n",
    "from scipy import interp\n",
    "\n",
    "lw=2\n",
    "# Binarize the output\n",
    "y_test1 = label_binarize(y_test, classes=[0, 1, 2,3 ])\n",
    "y_score = y_score_auc#label_binarize(y_score, classes=[0, 1, 2,3 ])\n",
    "n_classes = y_test1.shape[1]\n",
    "# Compute macro-average ROC curve and ROC area\n",
    "# Compute ROC curve and ROC area for each class\n",
    "fpr = dict()\n",
    "tpr = dict()\n",
    "roc_auc = dict()\n",
    "for i in range(n_classes):\n",
    "    fpr[i], tpr[i], _ = roc_curve(y_test1[:, i], y_score[:, i])\n",
    "    roc_auc[i] = auc(fpr[i], tpr[i])\n",
    "\n",
    "# Compute micro-average ROC curve and ROC area\n",
    "fpr[\"micro\"], tpr[\"micro\"], _ = roc_curve(y_test1.ravel(), y_score.ravel())\n",
    "roc_auc[\"micro\"] = auc(fpr[\"micro\"], tpr[\"micro\"])\n",
    "# First aggregate all false positive rates\n",
    "all_fpr = np.unique(np.concatenate([fpr[i] for i in range(n_classes)]))\n",
    "\n",
    "# Then interpolate all ROC curves at this points\n",
    "mean_tpr = np.zeros_like(all_fpr)\n",
    "for i in range(n_classes):\n",
    "    mean_tpr += interp(all_fpr, fpr[i], tpr[i])\n",
    "\n",
    "# Finally average it and compute AUC\n",
    "mean_tpr /= n_classes\n",
    "\n",
    "fpr[\"macro\"] = all_fpr\n",
    "tpr[\"macro\"] = mean_tpr\n",
    "roc_auc[\"macro\"] = auc(fpr[\"macro\"], tpr[\"macro\"])\n",
    "\n",
    "# Plot all ROC curves\n",
    "plt.figure()\n",
    "plt.plot(fpr[\"micro\"], tpr[\"micro\"],\n",
    "         label='micro-average ROC curve (area = {0:0.2f})'\n",
    "               ''.format(roc_auc[\"micro\"]),\n",
    "         color='deeppink', linestyle=':', linewidth=4)\n",
    "\n",
    "plt.plot(fpr[\"macro\"], tpr[\"macro\"],\n",
    "         label='macro-average ROC curve (area = {0:0.2f})'\n",
    "               ''.format(roc_auc[\"macro\"]),\n",
    "         color='navy', linestyle=':', linewidth=4)\n",
    "name= {0:'AD',1:'CN',2:'EMCI',3:'LMCI'}\n",
    "colors = cycle(['aqua', 'darkorange', 'cornflowerblue','red'])\n",
    "for i, color in zip(range(n_classes), colors):\n",
    "    plt.plot(fpr[i], tpr[i], color=color, lw=lw,\n",
    "             label='ROC curve of class {0} (area = {1:0.2f})'\n",
    "             ''.format(name[i], roc_auc[i]))\n",
    "\n",
    "plt.plot([0, 1], [0, 1], 'k--', lw=lw)\n",
    "plt.xlim([0.0, 1.0])\n",
    "plt.ylim([0.0, 1.05])\n",
    "plt.xlabel('False Positive Rate')\n",
    "plt.ylabel('True Positive Rate')\n",
    "plt.title('Receiver Operating Characteristic of SVM for ADNI dataset')\n",
    "plt.legend(loc=\"lower right\")\n",
    "plt.show()\n"
   ]
  },
  {
   "cell_type": "code",
   "execution_count": 31,
   "metadata": {},
   "outputs": [
    {
     "name": "stdout",
     "output_type": "stream",
     "text": [
      "0.7755102040816326\n",
      "0.7801141695442414\n",
      "0.7755102040816326\n",
      "0.7728251548257808\n"
     ]
    }
   ],
   "source": [
    "from sklearn.ensemble import RandomForestClassifier\n",
    "clf = RandomForestClassifier()\n",
    "y_score_auc= clf.fit(X_train, y_train).predict_proba(X_test)\n",
    "y_score=np.argmax(y_score_auc, axis=1)#clf.predict(X_test)\n",
    "print(accuracy_score(y_test, y_score))\n",
    "print(precision_score(y_score,y_test, average='weighted'))\n",
    "print(recall_score(y_score,y_test, average='weighted'))\n",
    "print(f1_score(y_score,y_test, average='weighted'))"
   ]
  },
  {
   "cell_type": "code",
   "execution_count": 32,
   "metadata": {},
   "outputs": [
    {
     "data": {
      "image/png": "[encoded data removed]",
      "text/plain": [
       "<matplotlib.figure.Figure at 0x7f1321be4dd8>"
      ]
     },
     "metadata": {},
     "output_type": "display_data"
    }
   ],
   "source": [
    "import numpy as np\n",
    "import matplotlib.pyplot as plt\n",
    "from itertools import cycle\n",
    "\n",
    "from sklearn import svm, datasets\n",
    "from sklearn.metrics import roc_curve, auc\n",
    "from sklearn.model_selection import train_test_split\n",
    "from sklearn.preprocessing import label_binarize\n",
    "from sklearn.multiclass import OneVsRestClassifier\n",
    "from scipy import interp\n",
    "\n",
    "lw=2\n",
    "# Binarize the output\n",
    "y_test1 = label_binarize(y_test, classes=[0, 1, 2,3 ])\n",
    "y_score = y_score_auc#label_binarize(y_score, classes=[0, 1, 2,3 ])\n",
    "n_classes = y_test1.shape[1]\n",
    "# Compute macro-average ROC curve and ROC area\n",
    "# Compute ROC curve and ROC area for each class\n",
    "fpr = dict()\n",
    "tpr = dict()\n",
    "roc_auc = dict()\n",
    "for i in range(n_classes):\n",
    "    fpr[i], tpr[i], _ = roc_curve(y_test1[:, i], y_score[:, i])\n",
    "    roc_auc[i] = auc(fpr[i], tpr[i])\n",
    "\n",
    "# Compute micro-average ROC curve and ROC area\n",
    "fpr[\"micro\"], tpr[\"micro\"], _ = roc_curve(y_test1.ravel(), y_score.ravel())\n",
    "roc_auc[\"micro\"] = auc(fpr[\"micro\"], tpr[\"micro\"])\n",
    "# First aggregate all false positive rates\n",
    "all_fpr = np.unique(np.concatenate([fpr[i] for i in range(n_classes)]))\n",
    "\n",
    "# Then interpolate all ROC curves at this points\n",
    "mean_tpr = np.zeros_like(all_fpr)\n",
    "for i in range(n_classes):\n",
    "    mean_tpr += interp(all_fpr, fpr[i], tpr[i])\n",
    "\n",
    "# Finally average it and compute AUC\n",
    "mean_tpr /= n_classes\n",
    "\n",
    "fpr[\"macro\"] = all_fpr\n",
    "tpr[\"macro\"] = mean_tpr\n",
    "roc_auc[\"macro\"] = auc(fpr[\"macro\"], tpr[\"macro\"])\n",
    "\n",
    "# Plot all ROC curves\n",
    "plt.figure()\n",
    "plt.plot(fpr[\"micro\"], tpr[\"micro\"],\n",
    "         label='micro-average ROC curve (area = {0:0.2f})'\n",
    "               ''.format(roc_auc[\"micro\"]),\n",
    "         color='deeppink', linestyle=':', linewidth=4)\n",
    "\n",
    "plt.plot(fpr[\"macro\"], tpr[\"macro\"],\n",
    "         label='macro-average ROC curve (area = {0:0.2f})'\n",
    "               ''.format(roc_auc[\"macro\"]),\n",
    "         color='navy', linestyle=':', linewidth=4)\n",
    "name= {0:'AD',1:'CN',2:'EMCI',3:'LMCI'}\n",
    "colors = cycle(['aqua', 'darkorange', 'cornflowerblue','red'])\n",
    "for i, color in zip(range(n_classes), colors):\n",
    "    plt.plot(fpr[i], tpr[i], color=color, lw=lw,\n",
    "             label='ROC curve of class {0} (area = {1:0.2f})'\n",
    "             ''.format(name[i], roc_auc[i]))\n",
    "\n",
    "plt.plot([0, 1], [0, 1], 'k--', lw=lw)\n",
    "plt.xlim([0.0, 1.0])\n",
    "plt.ylim([0.0, 1.05])\n",
    "plt.xlabel('False Positive Rate')\n",
    "plt.ylabel('True Positive Rate')\n",
    "plt.title('Receiver Operating Characteristic of RandomForest for ADNI dataset')\n",
    "plt.legend(loc=\"lower right\")\n",
    "plt.show()\n"
   ]
  },
  {
   "cell_type": "code",
   "execution_count": 33,
   "metadata": {},
   "outputs": [
    {
     "name": "stdout",
     "output_type": "stream",
     "text": [
      "0.8033395176252319\n",
      "0.8151660105390096\n",
      "0.8033395176252319\n",
      "0.8007959848327575\n"
     ]
    }
   ],
   "source": [
    "from sklearn import ensemble\n",
    "clf = ensemble.GradientBoostingClassifier()\n",
    "clf.fit(X_train, y_train)\n",
    "y_score=clf.predict(X_test)\n",
    "print(accuracy_score(y_test, y_score))\n",
    "print(precision_score(y_score,y_test, average='weighted'))\n",
    "print(recall_score(y_score,y_test, average='weighted'))\n",
    "print(f1_score(y_score,y_test, average='weighted'))"
   ]
  },
  {
   "cell_type": "code",
   "execution_count": 34,
   "metadata": {},
   "outputs": [
    {
     "data": {
      "text/plain": [
       "array([2, 0, 2, 3, 1, 3, 1, 0, 3, 3, 3, 0, 1, 0, 0, 2, 1, 2, 3, 0, 1, 3,\n",
       "       2, 3, 3, 2, 2, 3, 3, 3, 0, 0, 2, 2, 3, 3, 0, 1, 0, 2, 3, 2, 3, 3,\n",
       "       2, 1, 1, 3, 2, 3, 1, 3, 0, 3, 3, 3, 3, 3, 3, 1, 3, 1, 3, 3, 3, 3,\n",
       "       3, 1, 3, 1, 3, 0, 2, 3, 2, 3, 2, 3, 3, 0, 1, 2, 3, 1, 2, 2, 2, 2,\n",
       "       1, 0, 2, 3, 3, 0, 3, 3, 2, 3, 2, 0, 0, 0, 2, 2, 1, 3, 3, 3, 0, 3,\n",
       "       3, 1, 3, 2, 0, 3, 2, 2, 3, 3, 0, 0, 2, 3, 2, 1, 3, 0, 0, 2, 0, 2,\n",
       "       3, 2, 2, 0, 2, 3, 1, 0, 0, 3, 1, 2, 3, 2, 1, 3, 1, 1, 1, 2, 0, 1,\n",
       "       2, 2, 0, 3, 3, 0, 3, 3, 2, 3, 2, 0, 1, 2, 3, 3, 2, 2, 1, 0, 2, 2,\n",
       "       3, 1, 3, 0, 3, 1, 1, 2, 2, 0, 0, 1, 3, 1, 3, 3, 2, 1, 2, 3, 3, 2,\n",
       "       3, 1, 3, 0, 3, 1, 3, 1, 2, 3, 1, 0, 3, 1, 1, 1, 3, 1, 1, 1, 2, 3,\n",
       "       2, 1, 3, 0, 2, 3, 3, 2, 2, 1, 1, 2, 1, 1, 0, 3, 0, 1, 2, 3, 2, 1,\n",
       "       0, 2, 3, 0, 1, 1, 2, 1, 2, 0, 3, 3, 3, 0, 0, 2, 0, 1, 3, 1, 2, 0,\n",
       "       3, 2, 3, 2, 3, 0, 1, 3, 3, 1, 1, 3, 3, 0, 3, 2, 1, 1, 3, 3, 1, 2,\n",
       "       1, 1, 2, 3, 0, 2, 2, 3, 3, 2, 3, 1, 3, 3, 2, 3, 3, 2, 0, 0, 2, 2,\n",
       "       3, 0, 0, 2, 3, 3, 2, 3, 1, 1, 2, 3, 2, 2, 3, 3, 0, 1, 1, 3, 1, 1,\n",
       "       2, 3, 2, 2, 1, 2, 1, 0, 0, 0, 2, 1, 0, 0, 2, 3, 2, 2, 3, 3, 3, 1,\n",
       "       3, 1, 0, 3, 3, 1, 1, 0, 2, 3, 1, 1, 0, 3, 2, 2, 0, 3, 3, 2, 0, 1,\n",
       "       2, 3, 0, 0, 3, 1, 3, 0, 0, 2, 2, 1, 3, 3, 2, 2, 1, 2, 1, 0, 3, 3,\n",
       "       3, 2, 3, 3, 2, 1, 0, 1, 1, 1, 3, 0, 1, 3, 3, 3, 2, 3, 3, 3, 2, 0,\n",
       "       2, 1, 2, 0, 3, 3, 2, 3, 2, 3, 0, 0, 2, 3, 3, 0, 0, 2, 2, 1, 0, 2,\n",
       "       3, 2, 3, 0, 3, 0, 1, 3, 2, 1, 1, 0, 2, 1, 3, 1, 3, 2, 1, 2, 3, 1,\n",
       "       3, 0, 1, 2, 2, 2, 1, 0, 3, 2, 3, 3, 2, 2, 0, 1, 3, 0, 1, 3, 3, 0,\n",
       "       1, 3, 3, 2, 1, 2, 0, 3, 0, 3, 3, 2, 0, 3, 3, 1, 0, 1, 3, 1, 3, 1,\n",
       "       2, 3, 3, 3, 3, 0, 1, 3, 3, 1, 2, 2, 3, 1, 0, 3, 3, 2, 2, 0, 2, 0,\n",
       "       2, 0, 2, 1, 2, 0, 0, 2, 2, 1, 1])"
      ]
     },
     "execution_count": 34,
     "metadata": {},
     "output_type": "execute_result"
    }
   ],
   "source": [
    "y_score"
   ]
  },
  {
   "cell_type": "code",
   "execution_count": null,
   "metadata": {},
   "outputs": [],
   "source": []
  },
  {
   "cell_type": "code",
   "execution_count": null,
   "metadata": {},
   "outputs": [],
   "source": []
  }
 ],
 "metadata": {
  "kernelspec": {
   "display_name": "Python 3",
   "language": "python",
   "name": "python3"
  },
  "language_info": {
   "codemirror_mode": {
    "name": "ipython",
    "version": 3
   },
   "file_extension": ".py",
   "mimetype": "text/x-python",
   "name": "python",
   "nbconvert_exporter": "python",
   "pygments_lexer": "ipython3",
   "version": "3.5.2"
  }
 },
 "nbformat": 4,
 "nbformat_minor": 2
}
