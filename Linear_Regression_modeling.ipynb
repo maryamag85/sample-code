{
 "cells": [
  {
   "cell_type": "code",
   "execution_count": 85,
   "metadata": {},
   "outputs": [],
   "source": [
    "import pandas as pd\n",
    "import numpy as np"
   ]
  },
  {
   "cell_type": "code",
   "execution_count": 86,
   "metadata": {},
   "outputs": [],
   "source": [
    "data = pd.read_csv('Advertising.csv')#,index_col=0"
   ]
  },
  {
   "cell_type": "code",
   "execution_count": 87,
   "metadata": {},
   "outputs": [],
   "source": [
    "y = data['sales']\n",
    "x = data['TV']"
   ]
  },
  {
   "cell_type": "code",
   "execution_count": 88,
   "metadata": {},
   "outputs": [],
   "source": [
    "def cost_func(weight,bias,y,x):\n",
    "    cost=0\n",
    "    nodes = len(y)\n",
    "    for i in range(nodes):\n",
    "        cost += (x[i]* weight + bias - y[i])**2\n",
    "    return cost/nodes"
   ]
  },
  {
   "cell_type": "code",
   "execution_count": 89,
   "metadata": {},
   "outputs": [],
   "source": [
    "weight = 0\n",
    "bias= 0\n",
    "cost = cost_func(weight,bias,y,x)"
   ]
  },
  {
   "cell_type": "code",
   "execution_count": 107,
   "metadata": {},
   "outputs": [],
   "source": [
    "def update_weight(weight, bias, y, x , learning_rate):\n",
    "    gradient_weight = 0\n",
    "    gradient_bias = 0\n",
    "    nodes = len(y)\n",
    "    \n",
    "    for i in range(nodes):\n",
    "        gradient_weight += -2 * x[i] * (y[i] - (weight * x[i] + bias))\n",
    "        gradient_bias += -2 * (y[i] - (weight * x[i] + bias))\n",
    "        \n",
    "    weight = weight - (gradient_weight/nodes) * learning_rate\n",
    "    bias = bias - (gradient_bias/nodes) * learning_rate\n",
    "\n",
    "    return weight, bias"
   ]
  },
  {
   "cell_type": "code",
   "execution_count": 113,
   "metadata": {},
   "outputs": [],
   "source": [
    "def update_weights(radio, sales, weight, bias, learning_rate):\n",
    "    weight_deriv = 0\n",
    "    bias_deriv = 0\n",
    "    companies = len(radio)\n",
    "\n",
    "    for i in range(companies):\n",
    "        # Calculate partial derivatives\n",
    "        # -2x(y - (mx + b))\n",
    "        weight_deriv += -2*radio[i] * (sales[i] - (weight*radio[i] + bias))\n",
    "\n",
    "        # -2(y - (mx + b))\n",
    "        bias_deriv += -2*(sales[i] - (weight*radio[i] + bias))\n",
    "\n",
    "    # We subtract because the derivatives point in direction of steepest ascent\n",
    "    weight -= (weight_deriv / companies) * learning_rate\n",
    "    bias -= (bias_deriv / companies) * learning_rate\n",
    "\n",
    "    return weight, bias"
   ]
  },
  {
   "cell_type": "code",
   "execution_count": 114,
   "metadata": {},
   "outputs": [],
   "source": [
    "def training (epoch , weight, bias, y, x , learning_rate):\n",
    "    for n in range(epoch) :\n",
    "#         weight, bias = update_weight(weight, bias, y, x , learning_rate)\n",
    "        weight, bias = update_weights(x,y,weight,bias,learning_rate)\n",
    "        cost = cost_func(weight,bias,y,x)\n",
    "        print(cost)"
   ]
  },
  {
   "cell_type": "code",
   "execution_count": 115,
   "metadata": {},
   "outputs": [
    {
     "name": "stdout",
     "output_type": "stream",
     "text": [
      "67072797.712930396\n",
      "22417771491462.227\n",
      "7.492704456171997e+18\n",
      "2.504290851968841e+24\n",
      "8.370105491200568e+29\n",
      "2.797545096598774e+35\n",
      "9.350250813124795e+40\n",
      "3.1251396224008693e+46\n",
      "1.0445171851209344e+52\n",
      "3.491095700789184e+57\n",
      "1.1668308923665636e+63\n",
      "3.8999054969280163e+68\n",
      "1.3034676219552254e+74\n",
      "4.356587211725899e+79\n",
      "1.4561046100173545e+85\n",
      "4.8667466809962955e+90\n",
      "1.62661549823032e+96\n",
      "5.436646187924083e+101\n",
      "1.817093333048053e+107\n",
      "6.073281333520891e+112\n",
      "2.0298762581568406e+118\n",
      "6.784466908665468e+123\n",
      "2.267576215536006e+129\n",
      "7.57893282182141e+134\n",
      "2.533111007433295e+140\n",
      "8.466431259958866e+145\n",
      "2.8297401128203924e+151\n",
      "9.457856398096679e+156\n",
      "3.1611046979809994e+162\n",
      "1.0565378126917323e+168\n",
      "3.5312723123672377e+173\n",
      "1.1802591439980765e+179\n",
      "3.944786818372687e+184\n",
      "1.3184683314287692e+190\n",
      "4.40672416791758e+195\n",
      "1.4728619132675804e+201\n",
      "4.922754710511772e+206\n",
      "1.6453350936411407e+212\n",
      "5.499212797636369e+217\n",
      "1.838005006430839e+223\n",
      "6.143174537848098e+228\n",
      "2.0532367034053158e+234\n",
      "6.862544657061766e+239\n",
      "2.2936721855819246e+245\n",
      "7.666153530233865e+250\n",
      "2.5622628341811963e+256\n",
      "8.563865575525424e+261\n",
      "2.862305639269285e+267\n",
      "9.56670034149864e+272\n",
      "3.197483670800256e+278\n",
      "1.0686967773710655e+284\n",
      "3.5719112888462565e+289\n",
      "1.1938419321121777e+295\n",
      "3.9901846479779313e+300\n"
     ]
    },
    {
     "name": "stderr",
     "output_type": "stream",
     "text": [
      "/home/mary/.local/lib/python3.5/site-packages/ipykernel_launcher.py:5: RuntimeWarning: overflow encountered in double_scalars\n",
      "  \"\"\"\n"
     ]
    },
    {
     "name": "stdout",
     "output_type": "stream",
     "text": [
      "inf\n",
      "inf\n",
      "inf\n",
      "inf\n",
      "inf\n",
      "inf\n",
      "inf\n",
      "inf\n",
      "inf\n",
      "inf\n",
      "inf\n",
      "inf\n",
      "inf\n",
      "inf\n",
      "inf\n",
      "inf\n",
      "inf\n",
      "inf\n",
      "inf\n",
      "inf\n",
      "inf\n",
      "inf\n",
      "inf\n",
      "inf\n",
      "inf\n",
      "inf\n",
      "inf\n",
      "inf\n",
      "inf\n",
      "inf\n",
      "inf\n",
      "inf\n",
      "inf\n",
      "inf\n",
      "inf\n",
      "inf\n",
      "inf\n",
      "inf\n",
      "inf\n",
      "inf\n",
      "inf\n",
      "inf\n",
      "inf\n",
      "inf\n",
      "inf\n",
      "inf\n"
     ]
    }
   ],
   "source": [
    "epoch =100\n",
    "learning_rate = 0.01\n",
    "training (epoch , weight, bias, y, x , learning_rate)"
   ]
  },
  {
   "cell_type": "code",
   "execution_count": null,
   "metadata": {},
   "outputs": [],
   "source": [
    "#multivariate linear regression \n"
   ]
  },
  {
   "cell_type": "code",
   "execution_count": 168,
   "metadata": {},
   "outputs": [],
   "source": [
    "Data = np.asarray(data)\n",
    "features = Data[:,1:-1]\n",
    "target = Data[:,-1]\n",
    "target= target.reshape([-1,1])"
   ]
  },
  {
   "cell_type": "code",
   "execution_count": 169,
   "metadata": {},
   "outputs": [],
   "source": [
    "weight = np.random.rand(3,1)"
   ]
  },
  {
   "cell_type": "code",
   "execution_count": 170,
   "metadata": {},
   "outputs": [],
   "source": [
    "def prediction(features,target):\n",
    "    prediction = np.dot(features,weight)\n",
    "    return prediction"
   ]
  },
  {
   "cell_type": "code",
   "execution_count": 183,
   "metadata": {},
   "outputs": [],
   "source": [
    "def cost_func(features,target,weight):\n",
    "    cost = sum((np.dot(features,weight) - target )**2)/2*nodes\n",
    "    return cost[0]\n"
   ]
  },
  {
   "cell_type": "code",
   "execution_count": 190,
   "metadata": {},
   "outputs": [],
   "source": [
    "def update_weight(features,target,weight,lr):\n",
    "    gradient = np.dot(np.transpose(target - np.dot(features,weight)),features) / nodes\n",
    "    return weight-gradient*lr "
   ]
  },
  {
   "cell_type": "code",
   "execution_count": 191,
   "metadata": {},
   "outputs": [],
   "source": [
    "err=cost_func(features,target,weight)"
   ]
  },
  {
   "cell_type": "code",
   "execution_count": 192,
   "metadata": {},
   "outputs": [
    {
     "data": {
      "text/plain": [
       "(200, 1)"
      ]
     },
     "execution_count": 192,
     "metadata": {},
     "output_type": "execute_result"
    }
   ],
   "source": [
    "(np.dot(features,weight) - target).shape"
   ]
  },
  {
   "cell_type": "code",
   "execution_count": 193,
   "metadata": {},
   "outputs": [
    {
     "data": {
      "text/plain": [
       "array([[-1827413.02947598,  -247552.23343868,  -377966.91234243]])"
      ]
     },
     "execution_count": 193,
     "metadata": {},
     "output_type": "execute_result"
    }
   ],
   "source": [
    "np.dot(np.transpose(target - np.dot(features,weight)),features)"
   ]
  },
  {
   "cell_type": "code",
   "execution_count": 199,
   "metadata": {},
   "outputs": [
    {
     "data": {
      "text/plain": [
       "[[1, 3], [2, 4]]"
      ]
     },
     "execution_count": 199,
     "metadata": {},
     "output_type": "execute_result"
    }
   ],
   "source": [
    "a = np.array([\n",
    "   [1, 2],\n",
    "   [3, 4]])\n",
    "\n",
    "a.T\n",
    "[[1, 3],\n",
    " [2, 4]]"
   ]
  },
  {
   "cell_type": "code",
   "execution_count": 200,
   "metadata": {},
   "outputs": [
    {
     "data": {
      "text/plain": [
       "(2, 2)"
      ]
     },
     "execution_count": 200,
     "metadata": {},
     "output_type": "execute_result"
    }
   ],
   "source": [
    "a.shape"
   ]
  },
  {
   "cell_type": "code",
   "execution_count": 201,
   "metadata": {},
   "outputs": [
    {
     "data": {
      "text/plain": [
       "array([[1, 2],\n",
       "       [3, 4]])"
      ]
     },
     "execution_count": 201,
     "metadata": {},
     "output_type": "execute_result"
    }
   ],
   "source": [
    "a"
   ]
  },
  {
   "cell_type": "code",
   "execution_count": 202,
   "metadata": {},
   "outputs": [
    {
     "data": {
      "text/plain": [
       "array([[1, 3],\n",
       "       [2, 4]])"
      ]
     },
     "execution_count": 202,
     "metadata": {},
     "output_type": "execute_result"
    }
   ],
   "source": [
    "a.T"
   ]
  },
  {
   "cell_type": "code",
   "execution_count": null,
   "metadata": {},
   "outputs": [],
   "source": []
  }
 ],
 "metadata": {
  "kernelspec": {
   "display_name": "Python 3",
   "language": "python",
   "name": "python3"
  },
  "language_info": {
   "codemirror_mode": {
    "name": "ipython",
    "version": 3
   },
   "file_extension": ".py",
   "mimetype": "text/x-python",
   "name": "python",
   "nbconvert_exporter": "python",
   "pygments_lexer": "ipython3",
   "version": "3.5.2"
  }
 },
 "nbformat": 4,
 "nbformat_minor": 2
}
