{
 "cells": [
  {
   "cell_type": "code",
   "execution_count": 1,
   "metadata": {},
   "outputs": [],
   "source": [
    "import numpy as np\n",
    "import pandas as pd\n",
    "from sklearn.preprocessing import OneHotEncoder\n",
    "from sklearn import preprocessing\n",
    "from sklearn.metrics import mean_squared_error\n",
    "from sklearn.model_selection import train_test_split\n",
    "import warnings\n",
    "warnings.filterwarnings('ignore')\n",
    "\n",
    "\n",
    "xy= pd.read_csv('ADNI_adnimerge_20170629_QT-freeze.csv')"
   ]
  },
  {
   "cell_type": "code",
   "execution_count": 2,
   "metadata": {},
   "outputs": [],
   "source": [
    "XY=xy[['RID', 'VISCODE'#,'AGE',       'PTGENDER', 'PTEDUCAT',         'APOE4'\n",
    "       , 'FDG', 'PIB', 'AV45', 'ABETA', 'PTAU', 'TAU', 'CDRSB',\n",
    "       'RAVLTimmediate', 'RAVLTlearning',\n",
    "       'RAVLTforgetting', 'RAVLTpercforgetting', 'FAQ', 'MOCA', 'EcogPtMem',\n",
    "       'EcogPtLang', 'EcogPtVisspat', 'EcogPtPlan', 'EcogPtOrgan',\n",
    "       'EcogPtDivatt', 'EcogPtTotal', 'EcogSPMem', 'EcogSPLang',\n",
    "       'EcogSPVisspat', 'EcogSPPlan', 'EcogSPOrgan', 'EcogSPDivatt',\n",
    "       'EcogSPTotal',  'Ventricles', 'Hippocampus',\n",
    "       'WholeBrain', 'Entorhinal', 'Fusiform', 'MidTemp', 'ICV','DX']]"
   ]
  },
  {
   "cell_type": "code",
   "execution_count": 3,
   "metadata": {},
   "outputs": [],
   "source": [
    "xybl=xy[xy['VISCODE']=='bl']\n",
    "dx=xybl['DX']"
   ]
  },
  {
   "cell_type": "code",
   "execution_count": 4,
   "metadata": {},
   "outputs": [
    {
     "data": {
      "text/plain": [
       "(12749, 37)"
      ]
     },
     "execution_count": 4,
     "metadata": {},
     "output_type": "execute_result"
    }
   ],
   "source": [
    "# Dropping values which are not meaningful\n",
    "# ABETHA\n",
    "XY['ABETA']=XY['ABETA'].replace('>1700',None)\n",
    "XY['ABETA']=XY['ABETA'].replace('<200',None)\n",
    "\n",
    "# PTAU\n",
    "XY['PTAU']=XY['PTAU'].replace('>120',None)\n",
    "XY['PTAU']=XY['PTAU'].replace('<8',None)\n",
    "# TAU\n",
    "\n",
    "XY['TAU']=XY['TAU'].replace('>1300',None)\n",
    "XY['TAU']=XY['TAU'].replace('<80',None)\n",
    "\n",
    "XY.shape\n"
   ]
  },
  {
   "cell_type": "code",
   "execution_count": 5,
   "metadata": {},
   "outputs": [],
   "source": [
    "XY = XY.drop(XY[XY['Ventricles']==0].index)\n",
    "XY = XY.dropna(subset=['DX'])"
   ]
  },
  {
   "cell_type": "code",
   "execution_count": 6,
   "metadata": {},
   "outputs": [],
   "source": [
    "XY = XY.drop(XY[XY['DX']=='MCI to Dementia'].index)\n",
    "XY = XY.drop(XY[XY['DX']=='NL to MCI'].index)\n",
    "XY = XY.drop(XY[XY['DX']=='MCI to NL'].index)\n",
    "XY = XY.drop(XY[XY['DX']=='Dementia to MCI'].index)\n",
    "XY = XY.drop(XY[XY['DX']=='NL to Dementia'].index)\n",
    "# XY = XY.drop(XY[XY['MMSE'].isnull()].index)"
   ]
  },
  {
   "cell_type": "code",
   "execution_count": 7,
   "metadata": {},
   "outputs": [
    {
     "data": {
      "text/plain": [
       "<matplotlib.axes._subplots.AxesSubplot at 0x7fc235d056d8>"
      ]
     },
     "execution_count": 7,
     "metadata": {},
     "output_type": "execute_result"
    }
   ],
   "source": [
    "k=pd.DataFrame(XY['DX'].value_counts())\n",
    "k.plot.pie(y='DX', figsize=(5, 5))\n"
   ]
  },
  {
   "cell_type": "code",
   "execution_count": 8,
   "metadata": {},
   "outputs": [],
   "source": [
    "# MMSE nan\n",
    "# XY = XY.dropna(subset=['MMSE'])"
   ]
  },
  {
   "cell_type": "code",
   "execution_count": 9,
   "metadata": {},
   "outputs": [],
   "source": [
    "# redefining value types which we deal with them in the above section\n",
    "# ABETA\n",
    "XY['ABETA']=(XY['ABETA'].astype(float))\n",
    "XY = XY.infer_objects()\n",
    "# PTAU\n",
    "XY['PTAU']=(XY['PTAU'].astype(float))\n",
    "# TAU\n",
    "XY['TAU']=(XY['TAU'].astype(float))"
   ]
  },
  {
   "cell_type": "code",
   "execution_count": 10,
   "metadata": {},
   "outputs": [],
   "source": [
    "XY=XY.set_index('RID',drop=False)"
   ]
  },
  {
   "cell_type": "code",
   "execution_count": 11,
   "metadata": {},
   "outputs": [],
   "source": [
    "# le = preprocessing.LabelEncoder()\n",
    "# gender_encoded=le.fit_transform(XY['PTGENDER'])\n",
    "# XY=XY.drop(['PTGENDER'], axis=1)\n",
    "# enc = OneHotEncoder(sparse=False)\n",
    "# gender_encoded = gender_encoded.reshape(len(gender_encoded), 1)\n",
    "# onehot_encoded = enc.fit_transform(gender_encoded)\n",
    "# temp=pd.DataFrame(onehot_encoded)\n",
    "# temp=temp.reset_index(drop=True)\n",
    "# XY=XY.reset_index(drop=True)\n",
    "# XY=pd.concat([XY, temp], axis=1,  join_axes=[ XY.index])"
   ]
  },
  {
   "cell_type": "code",
   "execution_count": 12,
   "metadata": {},
   "outputs": [],
   "source": [
    "y1=XY[XY['VISCODE']=='bl'][['DX','RID']]\n",
    "x1=XY[XY['VISCODE']=='bl']\n",
    "# dx1=XY[XY['VISCODE']=='bl']['DX']\n",
    "x1=x1.drop(['VISCODE','DX'], axis=1)\n",
    "x1=x1.fillna(0)\n"
   ]
  },
  {
   "cell_type": "code",
   "execution_count": 13,
   "metadata": {},
   "outputs": [
    {
     "data": {
      "text/plain": [
       "Index(['DX', 'RID'], dtype='object')"
      ]
     },
     "execution_count": 13,
     "metadata": {},
     "output_type": "execute_result"
    }
   ],
   "source": [
    "y1.columns"
   ]
  },
  {
   "cell_type": "code",
   "execution_count": 14,
   "metadata": {},
   "outputs": [
    {
     "data": {
      "text/html": [
       "<div>\n",
       "<style scoped>\n",
       "    .dataframe tbody tr th:only-of-type {\n",
       "        vertical-align: middle;\n",
       "    }\n",
       "\n",
       "    .dataframe tbody tr th {\n",
       "        vertical-align: top;\n",
       "    }\n",
       "\n",
       "    .dataframe thead th {\n",
       "        text-align: right;\n",
       "    }\n",
       "</style>\n",
       "<table border=\"1\" class=\"dataframe\">\n",
       "  <thead>\n",
       "    <tr style=\"text-align: right;\">\n",
       "      <th></th>\n",
       "      <th>WholeBrain</th>\n",
       "      <th>Entorhinal</th>\n",
       "      <th>Fusiform</th>\n",
       "      <th>MidTemp</th>\n",
       "      <th>ICV</th>\n",
       "    </tr>\n",
       "  </thead>\n",
       "  <tbody>\n",
       "    <tr>\n",
       "      <th>count</th>\n",
       "      <td>1.721000e+03</td>\n",
       "      <td>1721.000000</td>\n",
       "      <td>1721.000000</td>\n",
       "      <td>1721.000000</td>\n",
       "      <td>1.721000e+03</td>\n",
       "    </tr>\n",
       "    <tr>\n",
       "      <th>mean</th>\n",
       "      <td>9.941648e+05</td>\n",
       "      <td>2950.720511</td>\n",
       "      <td>14638.551424</td>\n",
       "      <td>16457.266124</td>\n",
       "      <td>1.519740e+06</td>\n",
       "    </tr>\n",
       "    <tr>\n",
       "      <th>std</th>\n",
       "      <td>1.966802e+05</td>\n",
       "      <td>1449.070845</td>\n",
       "      <td>6740.669833</td>\n",
       "      <td>7577.588606</td>\n",
       "      <td>2.124463e+05</td>\n",
       "    </tr>\n",
       "    <tr>\n",
       "      <th>min</th>\n",
       "      <td>0.000000e+00</td>\n",
       "      <td>0.000000</td>\n",
       "      <td>0.000000</td>\n",
       "      <td>0.000000</td>\n",
       "      <td>0.000000e+00</td>\n",
       "    </tr>\n",
       "    <tr>\n",
       "      <th>25%</th>\n",
       "      <td>9.349350e+05</td>\n",
       "      <td>2501.000000</td>\n",
       "      <td>13975.000000</td>\n",
       "      <td>15686.000000</td>\n",
       "      <td>1.408405e+06</td>\n",
       "    </tr>\n",
       "    <tr>\n",
       "      <th>50%</th>\n",
       "      <td>1.012298e+06</td>\n",
       "      <td>3332.000000</td>\n",
       "      <td>16735.000000</td>\n",
       "      <td>18776.000000</td>\n",
       "      <td>1.516250e+06</td>\n",
       "    </tr>\n",
       "    <tr>\n",
       "      <th>75%</th>\n",
       "      <td>1.093169e+06</td>\n",
       "      <td>3929.000000</td>\n",
       "      <td>18678.000000</td>\n",
       "      <td>21145.000000</td>\n",
       "      <td>1.637938e+06</td>\n",
       "    </tr>\n",
       "    <tr>\n",
       "      <th>max</th>\n",
       "      <td>1.486036e+06</td>\n",
       "      <td>5896.000000</td>\n",
       "      <td>29950.000000</td>\n",
       "      <td>32189.000000</td>\n",
       "      <td>2.110294e+06</td>\n",
       "    </tr>\n",
       "  </tbody>\n",
       "</table>\n",
       "</div>"
      ],
      "text/plain": [
       "         WholeBrain   Entorhinal      Fusiform       MidTemp           ICV\n",
       "count  1.721000e+03  1721.000000   1721.000000   1721.000000  1.721000e+03\n",
       "mean   9.941648e+05  2950.720511  14638.551424  16457.266124  1.519740e+06\n",
       "std    1.966802e+05  1449.070845   6740.669833   7577.588606  2.124463e+05\n",
       "min    0.000000e+00     0.000000      0.000000      0.000000  0.000000e+00\n",
       "25%    9.349350e+05  2501.000000  13975.000000  15686.000000  1.408405e+06\n",
       "50%    1.012298e+06  3332.000000  16735.000000  18776.000000  1.516250e+06\n",
       "75%    1.093169e+06  3929.000000  18678.000000  21145.000000  1.637938e+06\n",
       "max    1.486036e+06  5896.000000  29950.000000  32189.000000  2.110294e+06"
      ]
     },
     "execution_count": 14,
     "metadata": {},
     "output_type": "execute_result"
    }
   ],
   "source": [
    "x1.iloc[:,30:40].describe()"
   ]
  },
  {
   "cell_type": "code",
   "execution_count": 15,
   "metadata": {},
   "outputs": [
    {
     "data": {
      "text/plain": [
       "<matplotlib.image.AxesImage at 0x7fc2321a2f60>"
      ]
     },
     "execution_count": 15,
     "metadata": {},
     "output_type": "execute_result"
    },
    {
     "data": {
      "image/png": "[encoded data removed]",
      "text/plain": [
       "<Figure size 288x288 with 1 Axes>"
      ]
     },
     "metadata": {},
     "output_type": "display_data"
    }
   ],
   "source": [
    "import matplotlib.pyplot as plt\n",
    "\n",
    "plt.matshow(x1.corr())"
   ]
  },
  {
   "cell_type": "code",
   "execution_count": 52,
   "metadata": {},
   "outputs": [
    {
     "data": {
      "text/plain": [
       "<matplotlib.axes._subplots.AxesSubplot at 0x7fc22ae99978>"
      ]
     },
     "execution_count": 52,
     "metadata": {},
     "output_type": "execute_result"
    },
    {
     "data": {
      "image/png": "[encoded data removed]",
      "text/plain": [
       "<Figure size 432x288 with 2 Axes>"
      ]
     },
     "metadata": {},
     "output_type": "display_data"
    }
   ],
   "source": [
    "import seaborn as sns\n",
    "sns.set(style=\"whitegrid\", font_scale=1)\n",
    "sns.heatmap(x1.iloc[:,1:].corr(),cmap=\"YlGnBu\", xticklabels=4, yticklabels=4 , fmt=\"d\")#, linewidths=0.005"
   ]
  },
  {
   "cell_type": "code",
   "execution_count": null,
   "metadata": {},
   "outputs": [],
   "source": [
    "import seaborn as sns\n",
    "corr = x1.iloc[:,1:].corr()\n",
    "sns.heatmap(corr, \n",
    "            xticklabels=corr.columns.values,\n",
    "            yticklabels=corr.columns.values)"
   ]
  },
  {
   "cell_type": "code",
   "execution_count": null,
   "metadata": {},
   "outputs": [],
   "source": [
    "import numpy as np\n",
    "from sklearn.decomposition import PCA\n",
    "\n",
    "pca = PCA()\n",
    "pca.fit(x1.iloc[:,1:])\n",
    "\n",
    "\n",
    "# print(list(zip(pca.explained_variance_ratio_,x1.iloc[:,1:].columns)) ) \n",
    "\n",
    "print(list(zip(pca.singular_values_,x1.iloc[:,1:].columns)))  "
   ]
  },
  {
   "cell_type": "code",
   "execution_count": null,
   "metadata": {},
   "outputs": [],
   "source": [
    "for i in (x1.columns):\n",
    "    print(x1[i],i)"
   ]
  },
  {
   "cell_type": "code",
   "execution_count": null,
   "metadata": {},
   "outputs": [],
   "source": [
    "from sklearn import preprocessing\n",
    "le = preprocessing.LabelEncoder()\n",
    "le.fit(y1['DX'])\n",
    "y11=le.transform(y1['DX'])\n",
    "np.cov(y11,x1['FDG'])"
   ]
  },
  {
   "cell_type": "code",
   "execution_count": null,
   "metadata": {},
   "outputs": [],
   "source": [
    "from sklearn.feature_selection import VarianceThreshold\n",
    "sel = VarianceThreshold(threshold=(.8 * (1 - .8)))\n",
    "l=sel.fit_transform(x1)\n"
   ]
  },
  {
   "cell_type": "code",
   "execution_count": null,
   "metadata": {},
   "outputs": [],
   "source": [
    "l.columns"
   ]
  },
  {
   "cell_type": "code",
   "execution_count": null,
   "metadata": {},
   "outputs": [],
   "source": [
    "y2=XY[XY['VISCODE']=='m06'][['DX','RID']]\n",
    "x2=XY[XY['VISCODE']=='m06']\n",
    "# dx2=XY[XY['VISCODE']=='m06']['DX']\n",
    "x2=x2.drop(['VISCODE','DX'], axis=1)\n",
    "x2=x2.fillna(0)\n",
    "x2.columns"
   ]
  },
  {
   "cell_type": "code",
   "execution_count": null,
   "metadata": {},
   "outputs": [],
   "source": [
    "\n",
    "x2=x2.rename(index=str, columns ={'RID':'RID', 'FDG':'FDG_2', 'PIB':'PIB_2', 'AV45':'AV45_2', 'ABETA':'ABETA_2',\n",
    "        'PTAU':'PTAU_2', 'TAU': 'TAU_2', 'CDRSB':'CDRSB_2',\n",
    "       'RAVLTimmediate':'RAVLTimmediate_2', 'RAVLTlearning':'RAVLTlearning_2', 'RAVLTforgetting':'RAVLTforgetting_2',\n",
    "       'RAVLTpercforgetting':'RAVLTpercforgetting_2', 'FAQ':'FAQ_2', 'MOCA':'MOCA_2',\n",
    "       'EcogPtMem':'EcogPtMem_2', 'EcogPtLang':'EcogPtLang_2',\n",
    "       'EcogPtVisspat':'EcogPtVisspat_2', 'EcogPtPlan': 'EcogPtPlan_2', 'EcogPtOrgan':'EcogPtOrgan_2', 'EcogPtDivatt':'EcogPtDivatt_2',\n",
    "       'EcogPtTotal':'EcogPtTotal_2', 'EcogSPMem':'EcogSPMem_2', 'EcogSPLang':'EcogSPLang_2', 'EcogSPVisspat':'EcogSPVisspat_2', 'EcogSPPlan':'EcogSPPlan_2',\n",
    "       'EcogSPOrgan':'EcogSPOrgan_2', 'EcogSPDivatt':'EcogSPDivatt_2', 'EcogSPTotal':'EcogSPTotal_2', 'Ventricles':'Ventricles_2',\n",
    "       'Hippocampus':'Hippocampus_2', 'WholeBrain':'WholeBrain_2', 'Entorhinal':'Entorhinal_2', 'Fusiform':'Fusiform_2', 'MidTemp':'MidTemp_2',\n",
    "       'ICV':'ICV_2'})"
   ]
  },
  {
   "cell_type": "code",
   "execution_count": null,
   "metadata": {},
   "outputs": [],
   "source": [
    "y3=XY[XY['VISCODE']=='m12'][['DX','RID']]\n",
    "x3=XY[XY['VISCODE']=='m12']\n",
    "x3=x3.drop(['VISCODE','DX'], axis=1)\n",
    "x3=x3.fillna(0)"
   ]
  },
  {
   "cell_type": "code",
   "execution_count": null,
   "metadata": {},
   "outputs": [],
   "source": [
    "x3=x3.rename(index=str, columns ={'RID':'RID', 'FDG':'FDG_3', 'PIB':'PIB_3', 'AV45':'AV45_3', 'ABETA':'ABETA_3',\n",
    "        'PTAU':'PTAU_3', 'TAU': 'TAU_3', 'CDRSB':'CDRSB_3',\n",
    "       'RAVLTimmediate':'RAVLTimmediate_3', 'RAVLTlearning':'RAVLTlearning_3', 'RAVLTforgetting':'RAVLTforgetting_3',\n",
    "       'RAVLTpercforgetting':'RAVLTpercforgetting_3', 'FAQ':'FAQ_3', 'MOCA':'MOCA_3',\n",
    "       'EcogPtMem':'EcogPtMem_3', 'EcogPtLang':'EcogPtLang_3',\n",
    "       'EcogPtVisspat':'EcogPtVisspat_3', 'EcogPtPlan': 'EcogPtPlan_3', 'EcogPtOrgan':'EcogPtOrgan_3', 'EcogPtDivatt':'EcogPtDivatt_3',\n",
    "       'EcogPtTotal':'EcogPtTotal_3', 'EcogSPMem':'EcogSPMem_3', 'EcogSPLang':'EcogSPLang_3', 'EcogSPVisspat':'EcogSPVisspat_3', 'EcogSPPlan':'EcogSPPlan_3',\n",
    "       'EcogSPOrgan':'EcogSPOrgan_3', 'EcogSPDivatt':'EcogSPDivatt_3', 'EcogSPTotal':'EcogSPTotal_3', 'Ventricles':'Ventricles_3',\n",
    "       'Hippocampus':'Hippocampus_3', 'WholeBrain':'WholeBrain_3', 'Entorhinal':'Entorhinal_3', 'Fusiform':'Fusiform_3', 'MidTemp':'MidTemp_3',\n",
    "       'ICV':'ICV_3'})"
   ]
  },
  {
   "cell_type": "code",
   "execution_count": null,
   "metadata": {},
   "outputs": [],
   "source": [
    "y4=XY[XY['VISCODE']=='m24'][['DX','RID']]\n",
    "x4=XY[XY['VISCODE']=='m24']\n",
    "x4=x4.drop(['VISCODE','DX'], axis=1)\n",
    "x4=x4.fillna(0)"
   ]
  },
  {
   "cell_type": "code",
   "execution_count": null,
   "metadata": {},
   "outputs": [],
   "source": [
    "x4=x4.rename(index=str, columns ={'RID':'RID', 'FDG':'FDG_4', 'PIB':'PIB_4', 'AV45':'AV45_4', 'ABETA':'ABETA_4',\n",
    "        'PTAU':'PTAU_4', 'TAU': 'TAU_4', 'CDRSB':'CDRSB_4',\n",
    "       'RAVLTimmediate':'RAVLTimmediate_4', 'RAVLTlearning':'RAVLTlearning_4', 'RAVLTforgetting':'RAVLTforgetting_4',\n",
    "       'RAVLTpercforgetting':'RAVLTpercforgetting_4', 'FAQ':'FAQ_4', 'MOCA':'MOCA_4',\n",
    "       'EcogPtMem':'EcogPtMem_4', 'EcogPtLang':'EcogPtLang_4',\n",
    "       'EcogPtVisspat':'EcogPtVisspat_4', 'EcogPtPlan': 'EcogPtPlan_4', 'EcogPtOrgan':'EcogPtOrgan_4', 'EcogPtDivatt':'EcogPtDivatt_4',\n",
    "       'EcogPtTotal':'EcogPtTotal_4', 'EcogSPMem':'EcogSPMem_4', 'EcogSPLang':'EcogSPLang_4', 'EcogSPVisspat':'EcogSPVisspat_4', 'EcogSPPlan':'EcogSPPlan_4',\n",
    "       'EcogSPOrgan':'EcogSPOrgan_4', 'EcogSPDivatt':'EcogSPDivatt_4', 'EcogSPTotal':'EcogSPTotal_4', 'Ventricles':'Ventricles_4',\n",
    "       'Hippocampus':'Hippocampus_4', 'WholeBrain':'WholeBrain_4', 'Entorhinal':'Entorhinal_4', 'Fusiform':'Fusiform_4', 'MidTemp':'MidTemp_4',\n",
    "       'ICV':'ICV_4'})"
   ]
  },
  {
   "cell_type": "code",
   "execution_count": null,
   "metadata": {},
   "outputs": [],
   "source": [
    "y5=XY[XY['VISCODE']=='m36'][['DX','RID']]\n",
    "x5=XY[XY['VISCODE']=='m36']\n",
    "x5=x5.drop(['VISCODE','DX'], axis=1)\n",
    "x5=x5.fillna(0)"
   ]
  },
  {
   "cell_type": "code",
   "execution_count": null,
   "metadata": {},
   "outputs": [],
   "source": [
    "x5=x5.rename(index=str, columns ={'RID':'RID', 'FDG':'FDG_5', 'PIB':'PIB_5', 'AV45':'AV45_5', 'ABETA':'ABETA_5',\n",
    "        'PTAU':'PTAU_5', 'TAU': 'TAU_5', 'CDRSB':'CDRSB_5',\n",
    "       'RAVLTimmediate':'RAVLTimmediate_5', 'RAVLTlearning':'RAVLTlearning_5', 'RAVLTforgetting':'RAVLTforgetting_5',\n",
    "       'RAVLTpercforgetting':'RAVLTpercforgetting_5', 'FAQ':'FAQ_5', 'MOCA':'MOCA_5',\n",
    "       'EcogPtMem':'EcogPtMem_5', 'EcogPtLang':'EcogPtLang_5',\n",
    "       'EcogPtVisspat':'EcogPtVisspat_5', 'EcogPtPlan': 'EcogPtPlan_5', 'EcogPtOrgan':'EcogPtOrgan_5', 'EcogPtDivatt':'EcogPtDivatt_5',\n",
    "       'EcogPtTotal':'EcogPtTotal_5', 'EcogSPMem':'EcogSPMem_5', 'EcogSPLang':'EcogSPLang_5', 'EcogSPVisspat':'EcogSPVisspat_5', 'EcogSPPlan':'EcogSPPlan_5',\n",
    "       'EcogSPOrgan':'EcogSPOrgan_5', 'EcogSPDivatt':'EcogSPDivatt_5', 'EcogSPTotal':'EcogSPTotal_5', 'Ventricles':'Ventricles_5',\n",
    "       'Hippocampus':'Hippocampus_5', 'WholeBrain':'WholeBrain_5', 'Entorhinal':'Entorhinal_5', 'Fusiform':'Fusiform_5', 'MidTemp':'MidTemp_5',\n",
    "       'ICV':'ICV_5'})"
   ]
  },
  {
   "cell_type": "code",
   "execution_count": null,
   "metadata": {},
   "outputs": [],
   "source": [
    "# XLSTM=x1.merge(x2,how='inner', left_on='RID', right_on='RID')"
   ]
  },
  {
   "cell_type": "code",
   "execution_count": null,
   "metadata": {},
   "outputs": [],
   "source": [
    "from functools import reduce\n",
    "dfs = [x1,x2,x3]#,x4,x5\n",
    "df_final = reduce(lambda left,right: pd.merge(left,right,on='RID',how='outer'), dfs)\n",
    "# s=pd.merge(x1,x2,on='RID',how='inner')\n",
    "# df_final=pd.merge(s,x3,on='RID',how='inner')\n",
    "\n",
    "dfsy= [y3,y4,y5]#y1,y2\n",
    "df_final_y = reduce(lambda left,right: pd.merge(left,right,on='RID',how='inner'), dfsy)\n",
    "# s=pd.merge(y3,y4,on='RID',how='inner')\n",
    "# df_final_y=pd.merge(s,y5,on='RID',how='inner')\n",
    "\n",
    "DFXY= [x1,x2,x3,y3]#,y4,y5\n",
    "df_xy = reduce(lambda left,right: pd.merge(left,right,on='RID',how='inner'), DFXY)\n"
   ]
  },
  {
   "cell_type": "code",
   "execution_count": null,
   "metadata": {},
   "outputs": [],
   "source": [
    "df_xy.shape"
   ]
  },
  {
   "cell_type": "code",
   "execution_count": null,
   "metadata": {},
   "outputs": [],
   "source": [
    "df_xy.columns\n",
    "\n",
    "df_xy_X=df_xy.iloc[:,0:-1]\n",
    "df_xy_y=df_xy.iloc[:,-1]"
   ]
  },
  {
   "cell_type": "code",
   "execution_count": null,
   "metadata": {},
   "outputs": [],
   "source": [
    "from sklearn import preprocessing\n",
    "le = preprocessing.LabelEncoder()\n",
    "from sklearn.preprocessing import OneHotEncoder\n",
    "enc = OneHotEncoder(handle_unknown='ignore',sparse=False)\n",
    "t=le.fit_transform(df_xy_y.iloc[:])\n",
    "Y = np.reshape(t,(-1,1))\n",
    "# y1=enc.fit_transform(t)\n",
    "# Y = np.reshape(y1,(-1,3))\n",
    "# t=le.fit_transform(df_xy_y.iloc[:,1])\n",
    "# t = np.reshape(t,(-1,1))\n",
    "# y2=enc.fit_transform(t)\n",
    "# t=le.fit_transform(df_xy_y.iloc[:,2])\n",
    "# t = np.reshape(t,(-1,1))\n",
    "# y3=enc.fit_transform(t)\n",
    "\n",
    "# Y= np.concatenate((y1,y2,y3), axis=1)\n",
    "\n"
   ]
  },
  {
   "cell_type": "code",
   "execution_count": null,
   "metadata": {},
   "outputs": [],
   "source": [
    "import keras\n",
    "Y= keras.utils.to_categorical(Y, num_classes=4)"
   ]
  },
  {
   "cell_type": "code",
   "execution_count": null,
   "metadata": {},
   "outputs": [],
   "source": [
    "#split to train and test \n",
    "from sklearn.model_selection import train_test_split\n",
    "X_train, X_test, y_train, y_test = train_test_split(df_xy_X, Y, test_size=0.33, random_state=42)"
   ]
  },
  {
   "cell_type": "code",
   "execution_count": null,
   "metadata": {},
   "outputs": [],
   "source": [
    "df_final=df_xy_X\n"
   ]
  },
  {
   "cell_type": "code",
   "execution_count": null,
   "metadata": {},
   "outputs": [],
   "source": [
    "import seaborn as sns\n",
    "import matplotlib.pyplot as plt\n",
    "fig, (ax1, ax2) = plt.subplots(ncols=2, figsize=(6, 5))\n",
    "\n",
    "ax1.set_title('Before Scaling')\n",
    "sns.kdeplot(X_train['FDG'], ax=ax1)\n",
    "sns.kdeplot(X_train['AV45'], ax=ax1)\n",
    "# sns.kdeplot(X_train['PTAU'], ax=ax1)\n",
    "plt.show()"
   ]
  },
  {
   "cell_type": "code",
   "execution_count": null,
   "metadata": {},
   "outputs": [],
   "source": [
    "from sklearn.preprocessing import MinMaxScaler\n",
    "scaler = MinMaxScaler()\n",
    "X_train = (scaler.fit_transform(X_train))\n",
    "X_train_3d= np.asarray(X_train[:,1:]).reshape((-1,3,34))\n",
    "\n",
    "X_test = (scaler.fit_transform(X_test))\n",
    "X_test_3d= np.asarray(X_test[:,1:]).reshape((-1,3,34))\n",
    "\n",
    "\n",
    "\n",
    "\n",
    "# y_train = (scaler.fit_transform(y_train))\n",
    "# y_train_3d= np.asarray(y_train).reshape((-1,1,1))\n",
    "\n",
    "\n",
    "# y_test = (scaler.fit_transform(y_test))\n",
    "# y_test_3d= np.asarray(y_test).reshape((-1,1,1))"
   ]
  },
  {
   "cell_type": "code",
   "execution_count": null,
   "metadata": {},
   "outputs": [],
   "source": [
    "y_train.shape"
   ]
  },
  {
   "cell_type": "markdown",
   "metadata": {},
   "source": [
    "## LSTM"
   ]
  },
  {
   "cell_type": "code",
   "execution_count": null,
   "metadata": {},
   "outputs": [],
   "source": [
    "# Example of one output for each input time step\n",
    "from keras.models import Sequential\n",
    "from keras.layers import LSTM, Dense, Dropout, GRU\n",
    "from numpy import array\n",
    "# define model where LSTM is also output layer\n",
    "model = Sequential()\n",
    "# model.add(LSTM(50,activation='tanh', return_sequences=True, input_shape=(3,34)))\n",
    "model.add(LSTM(1,activation='relu', return_sequences=True, input_shape=(3,34)))\n",
    "# model.add(LSTM(10,activation='tanh', return_sequences=True, input_shape=(3,34)))\n",
    "model.add(Dropout(0.5))\n",
    "model.add(Dense(1))\n",
    "model.compile(loss='binary_crossentropy', optimizer='adam')\n",
    "# fit network, validation_data=(X_train_3d, y_train_3d)\n",
    "history = model.fit(X_train_3d, y_train, epochs=250, batch_size=150, verbose=0, shuffle=False)\n",
    "# plot history\n",
    "import matplotlib.pyplot as pyplot\n",
    "pyplot.plot(history.history['loss'], label='train')\n",
    "# pyplot.plot(history.history['val_loss'], label='test')\n",
    "pyplot.legend()\n",
    "pyplot.show()\n",
    "\n",
    "\n",
    "\n"
   ]
  },
  {
   "cell_type": "code",
   "execution_count": null,
   "metadata": {},
   "outputs": [],
   "source": [
    "y_test_2d.shape"
   ]
  },
  {
   "cell_type": "code",
   "execution_count": null,
   "metadata": {},
   "outputs": [],
   "source": [
    "# X_test_3d = X_train_3d\n",
    "# y_test_3d = y_train_3d\n",
    "\n",
    "# y_dim1,y_dim2,y_dim3 = y_test_3d.shape\n",
    "# y_test_2d= np.asarray(y_test_3d).reshape((y_dim1, y_dim2,y_dim3))\n",
    "y_test_2i = scaler.inverse_transform(y_test_2d)\n",
    "# yhat = model.predict(X_test_3d)\n",
    "# yhat_2= np.asarray(yhat).reshape((y_dim1, y_dim2,y_dim3))\n",
    "# yhat_2_i = scaler.inverse_transform(yhat_2)"
   ]
  },
  {
   "cell_type": "code",
   "execution_count": null,
   "metadata": {},
   "outputs": [],
   "source": [
    "y_test_2d[0:3,:,1]"
   ]
  },
  {
   "cell_type": "code",
   "execution_count": null,
   "metadata": {},
   "outputs": [],
   "source": [
    "import math\n",
    "from sklearn.metrics import r2_score\n",
    "print(\"Mean squared error: %.2f\" % math.sqrt(mean_squared_error(y_test_2i[:,:,0], yhat_2_i[:,0])))\n",
    "print(\"Mean squared error: %.2f\" % math.sqrt(mean_squared_error(y_test_2i[:,:,1], yhat_2_i[:,1])))\n",
    "print(\"Mean squared error: %.2f\" % math.sqrt(mean_squared_error(y_test_2i[:,2], yhat_2_i[:,2])))\n",
    "print(\"Mean squared error: %.2f\" % mean_squared_error(y_test_2i, yhat_2_i))\n",
    "# Explained variance score: 1 is perfect prediction\n",
    "print('Variance score: %.2f' % r2_score(y_test_2i[:,0], yhat_2_i[:,0]))\n",
    "print('Variance score: %.2f' % r2_score(y_test_2i[:,1], yhat_2_i[:,1]))\n",
    "print('Variance score: %.2f' % r2_score(y_test_2i[:,2], yhat_2_i[:,2]))"
   ]
  },
  {
   "cell_type": "markdown",
   "metadata": {},
   "source": [
    "#### Linear Regression"
   ]
  },
  {
   "cell_type": "code",
   "execution_count": null,
   "metadata": {},
   "outputs": [],
   "source": [
    "import matplotlib.pyplot as plt\n",
    "plt.scatter(y_test_2i,yhat_2_i)"
   ]
  },
  {
   "cell_type": "code",
   "execution_count": null,
   "metadata": {},
   "outputs": [],
   "source": [
    "from sklearn import svm\n",
    "# Fit svr_rbfession model\n",
    "svr_rbf = svm.SVC(gamma='scale', decision_function_shape='ovo')\n",
    "svr_rbf.fit(X_train, y_train[:,0])\n",
    "\n",
    "# Make predictions using the testing set\n",
    "y_pred = svr_rbf.predict(X_test)\n",
    "y_pred1= np.asarray(y_pred).reshape((-1,1))\n",
    "# Make predictions using the testing set\n",
    "svr_rbf.fit(X_train, y_train[:,1])\n",
    "y_pred = svr_rbf.predict(X_test)\n",
    "y_pred2= np.asarray(y_pred).reshape((-1,1))\n",
    "# Make predictions using the testing set\n",
    "svr_rbf.fit(X_train, y_train[:,2])\n",
    "y_pred = svr_rbf.predict(X_test)\n",
    "y_pred3= np.asarray(y_pred).reshape((-1,1))\n",
    "y_pred = np.append(y_pred1,y_pred2, axis=1)\n",
    "y_pred = np.append(y_pred,y_pred3, axis=1)\n",
    "y_pred_i = scaler.inverse_transform(y_pred)\n",
    "y_test_i = scaler.inverse_transform(y_test)\n",
    "print(\"Mean squared error: %.2f\" % math.sqrt(mean_squared_error(y_test_i[:,0], y_pred_i[:,0])))\n",
    "print(\"Mean squared error: %.2f\" % math.sqrt(mean_squared_error(y_test_i[:,1], y_pred_i[:,1])))\n",
    "print(\"Mean squared error: %.2f\" % math.sqrt(mean_squared_error(y_test_i[:,2], y_pred_i[:,2])))\n",
    "print(\"Mean squared error: %.2f\" % mean_squared_error(y_test_i, y_pred_i))\n",
    "# Explained variance score: 1 is perfect prediction\n",
    "print('Variance score: %.2f' % r2_score(y_test_i[:,0], y_pred_i[:,0], multioutput='variance_weighted'))\n",
    "print('Variance score: %.2f' % r2_score(y_test_i[:,1], y_pred_i[:,1], multioutput='variance_weighted'))\n",
    "print('Variance score: %.2f' % r2_score(y_test_i[:,2], y_pred_i[:,2], multioutput='variance_weighted'))\n"
   ]
  }
 ],
 "metadata": {
  "kernelspec": {
   "display_name": "Python 3",
   "language": "python",
   "name": "python3"
  },
  "language_info": {
   "codemirror_mode": {
    "name": "ipython",
    "version": 3
   },
   "file_extension": ".py",
   "mimetype": "text/x-python",
   "name": "python",
   "nbconvert_exporter": "python",
   "pygments_lexer": "ipython3",
   "version": "3.5.2"
  }
 },
 "nbformat": 4,
 "nbformat_minor": 2
}
