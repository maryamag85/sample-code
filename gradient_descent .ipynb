{
 "cells": [
  {
   "cell_type": "markdown",
   "metadata": {},
   "source": [
    "# Gradient Descent Implimentation "
   ]
  },
  {
   "cell_type": "code",
   "execution_count": 26,
   "metadata": {},
   "outputs": [
    {
     "name": "stdout",
     "output_type": "stream",
     "text": [
      "the minimum of the function value would be y= 2.393469698888106e-05 in the x =  -5.004892309984954\n"
     ]
    }
   ],
   "source": [
    "# function definition \n",
    "# y = (x+5)**2\n",
    "\n",
    "gradient = lambda x : 2*(x+5)\n",
    "xnew = -10\n",
    "learning_rate = 0.01\n",
    "iter_number = 100000\n",
    "xold = 0\n",
    "preciesion = 0.0001\n",
    "\n",
    "while iter_number > 0 and abs(xold-xnew) > preciesion :\n",
    "    xold = xnew\n",
    "    xnew = xnew - learning_rate * gradient(xnew)\n",
    "    iter_number-=1\n",
    "    #print('x=',xnew,'y=',(xnew+5)**2)\n",
    "\n",
    "print('the minimum of the function value would be y=',(xnew+5)**2 , 'in the x = ', xnew)"
   ]
  },
  {
   "cell_type": "code",
   "execution_count": null,
   "metadata": {},
   "outputs": [],
   "source": []
  }
 ],
 "metadata": {
  "kernelspec": {
   "display_name": "Python 3",
   "language": "python",
   "name": "python3"
  },
  "language_info": {
   "codemirror_mode": {
    "name": "ipython",
    "version": 3
   },
   "file_extension": ".py",
   "mimetype": "text/x-python",
   "name": "python",
   "nbconvert_exporter": "python",
   "pygments_lexer": "ipython3",
   "version": "3.6.7"
  }
 },
 "nbformat": 4,
 "nbformat_minor": 2
}
